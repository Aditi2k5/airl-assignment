{
  "cells": [
    {
      "cell_type": "code",
      "execution_count": 1,
      "metadata": {
        "id": "dVRKyOntuBAl"
      },
      "outputs": [],
      "source": [
        "import torch\n",
        "import torchvision\n",
        "import random\n",
        "from matplotlib import pyplot as plt\n",
        "from torch import nn\n",
        "from torch.utils.data import DataLoader\n",
        "import numpy as np\n",
        "from tqdm import tqdm\n",
        "from torchvision import transforms"
      ]
    },
    {
      "cell_type": "code",
      "execution_count": 2,
      "metadata": {
        "id": "MYhnAGe1z5SW"
      },
      "outputs": [],
      "source": [
        "random.seed(42)\n",
        "np.random.seed(42)\n",
        "torch.manual_seed(42)\n",
        "torch.cuda.manual_seed(42)"
      ]
    },
    {
      "cell_type": "markdown",
      "metadata": {
        "id": "lR-FgoWyM8jo"
      },
      "source": [
        "Code with data augmentation"
      ]
    },
    {
      "cell_type": "code",
      "execution_count": 3,
      "metadata": {
        "id": "lz5qQirPNGEG"
      },
      "outputs": [
        {
          "name": "stderr",
          "output_type": "stream",
          "text": [
            "\n",
            "[notice] A new release of pip is available: 25.1.1 -> 25.2\n",
            "[notice] To update, run: C:\\Users\\Aditi P\\AppData\\Local\\Microsoft\\WindowsApps\\PythonSoftwareFoundation.Python.3.11_qbz5n2kfra8p0\\python.exe -m pip install --upgrade pip\n"
          ]
        },
        {
          "name": "stdout",
          "output_type": "stream",
          "text": [
            "Note: you may need to restart the kernel to use updated packages.\n"
          ]
        }
      ],
      "source": [
        "%pip install -q timm\n",
        "from timm.data.auto_augment import rand_augment_transform"
      ]
    },
    {
      "cell_type": "code",
      "execution_count": 4,
      "metadata": {
        "id": "4YWdxiEHNN2r"
      },
      "outputs": [],
      "source": [
        "train_transform=transforms.Compose([\n",
        "    transforms.RandomCrop(32, padding=4),\n",
        "    transforms.RandomHorizontalFlip(),\n",
        "    transforms.ToTensor(),\n",
        "    transforms.Normalize((0.4914, 0.4822, 0.4465), (0.2023, 0.1994, 0.2010)),\n",
        "    transforms.RandomErasing(p=0.5)\n",
        "])\n",
        "\n",
        "test_transform=transforms.Compose([\n",
        "    transforms.ToTensor(),\n",
        "    transforms.Normalize((0.4914, 0.4822, 0.4465), (0.2023, 0.1994, 0.20)),\n",
        "])"
      ]
    },
    {
      "cell_type": "code",
      "execution_count": 5,
      "metadata": {
        "id": "mxzQSCh6hASO"
      },
      "outputs": [],
      "source": [
        "dataset={\n",
        "    'train': torchvision.datasets.CIFAR10(\n",
        "        root='./data', train=True, download=True, transform=train_transform\n",
        "    ),\n",
        "    'test': torchvision.datasets.CIFAR10(\n",
        "        root='./data', train=False, download=True, transform=test_transform\n",
        "    )\n",
        "}"
      ]
    },
    {
      "cell_type": "code",
      "execution_count": 6,
      "metadata": {
        "colab": {
          "base_uri": "https://localhost:8080/",
          "height": 1000
        },
        "id": "m-rbqg6cj_q5",
        "outputId": "de0c6da8-4a78-485c-fbd9-836772b5b246"
      },
      "outputs": [
        {
          "name": "stderr",
          "output_type": "stream",
          "text": [
            "Clipping input data to the valid range for imshow with RGB data ([0..1] for floats or [0..255] for integers). Got range [-1.7692488..2.3557353].\n",
            "Clipping input data to the valid range for imshow with RGB data ([0..1] for floats or [0..255] for integers). Got range [-2.4096808..2.7675].\n",
            "Clipping input data to the valid range for imshow with RGB data ([0..1] for floats or [0..255] for integers). Got range [-2.2215865..2.5910294].\n",
            "Clipping input data to the valid range for imshow with RGB data ([0..1] for floats or [0..255] for integers). Got range [-2.1770618..2.7086763].\n",
            "Clipping input data to the valid range for imshow with RGB data ([0..1] for floats or [0..255] for integers). Got range [-2.0219827..1.7282844].\n",
            "Clipping input data to the valid range for imshow with RGB data ([0..1] for floats or [0..255] for integers). Got range [-2.2412531..1.5642271].\n",
            "Clipping input data to the valid range for imshow with RGB data ([0..1] for floats or [0..255] for integers). Got range [-2.2933714..1.908451].\n",
            "Clipping input data to the valid range for imshow with RGB data ([0..1] for floats or [0..255] for integers). Got range [-2.4290657..2.7282844].\n",
            "Clipping input data to the valid range for imshow with RGB data ([0..1] for floats or [0..255] for integers). Got range [-2.4290657..2.6106372].\n",
            "Clipping input data to the valid range for imshow with RGB data ([0..1] for floats or [0..255] for integers). Got range [-2.3002539..2.6890686].\n",
            "Clipping input data to the valid range for imshow with RGB data ([0..1] for floats or [0..255] for integers). Got range [-1.9444429..1.9439706].\n",
            "Clipping input data to the valid range for imshow with RGB data ([0..1] for floats or [0..255] for integers). Got range [-2.024918..2.6890686].\n",
            "Clipping input data to the valid range for imshow with RGB data ([0..1] for floats or [0..255] for integers). Got range [-2.4290657..2.5322058].\n",
            "Clipping input data to the valid range for imshow with RGB data ([0..1] for floats or [0..255] for integers). Got range [-2.1035852..2.518123].\n",
            "Clipping input data to the valid range for imshow with RGB data ([0..1] for floats or [0..255] for integers). Got range [-2.2412531..2.630245].\n",
            "Clipping input data to the valid range for imshow with RGB data ([0..1] for floats or [0..255] for integers). Got range [-2.4290657..2.7478921].\n",
            "Clipping input data to the valid range for imshow with RGB data ([0..1] for floats or [0..255] for integers). Got range [-2.3395875..1.6611518].\n",
            "Clipping input data to the valid range for imshow with RGB data ([0..1] for floats or [0..255] for integers). Got range [-1.8479164..2.414559].\n",
            "Clipping input data to the valid range for imshow with RGB data ([0..1] for floats or [0..255] for integers). Got range [-2.351526..2.7086763].\n",
            "Clipping input data to the valid range for imshow with RGB data ([0..1] for floats or [0..255] for integers). Got range [-2.4290657..2.7675].\n",
            "Clipping input data to the valid range for imshow with RGB data ([0..1] for floats or [0..255] for integers). Got range [-2.4290657..2.649853].\n",
            "Clipping input data to the valid range for imshow with RGB data ([0..1] for floats or [0..255] for integers). Got range [-2.1770618..2.7675].\n",
            "Clipping input data to the valid range for imshow with RGB data ([0..1] for floats or [0..255] for integers). Got range [-2.2158318..1.7774612].\n",
            "Clipping input data to the valid range for imshow with RGB data ([0..1] for floats or [0..255] for integers). Got range [-2.142919..2.4559333].\n",
            "Clipping input data to the valid range for imshow with RGB data ([0..1] for floats or [0..255] for integers). Got range [-1.1302763..2.3607883].\n",
            "Clipping input data to the valid range for imshow with RGB data ([0..1] for floats or [0..255] for integers). Got range [-1.7699786..2.3590088].\n",
            "Clipping input data to the valid range for imshow with RGB data ([0..1] for floats or [0..255] for integers). Got range [-2.0560293..2.7282844].\n",
            "Clipping input data to the valid range for imshow with RGB data ([0..1] for floats or [0..255] for integers). Got range [-2.2019196..2.7478921].\n",
            "Clipping input data to the valid range for imshow with RGB data ([0..1] for floats or [0..255] for integers). Got range [-2.4290657..2.6106372].\n",
            "Clipping input data to the valid range for imshow with RGB data ([0..1] for floats or [0..255] for integers). Got range [-2.4290657..2.514088].\n",
            "Clipping input data to the valid range for imshow with RGB data ([0..1] for floats or [0..255] for integers). Got range [-1.859951..2.7675].\n",
            "Clipping input data to the valid range for imshow with RGB data ([0..1] for floats or [0..255] for integers). Got range [-2.3709111..2.4537745].\n",
            "Clipping input data to the valid range for imshow with RGB data ([0..1] for floats or [0..255] for integers). Got range [-2.1770618..2.7675].\n",
            "Clipping input data to the valid range for imshow with RGB data ([0..1] for floats or [0..255] for integers). Got range [-2.398588..2.7282844].\n",
            "Clipping input data to the valid range for imshow with RGB data ([0..1] for floats or [0..255] for integers). Got range [-2.1344607..2.4171634].\n",
            "Clipping input data to the valid range for imshow with RGB data ([0..1] for floats or [0..255] for integers). Got range [-1.8085827..1.835616].\n",
            "Clipping input data to the valid range for imshow with RGB data ([0..1] for floats or [0..255] for integers). Got range [-1.9462506..2.4984562].\n",
            "Clipping input data to the valid range for imshow with RGB data ([0..1] for floats or [0..255] for integers). Got range [-2.2352166..1.4866874].\n",
            "Clipping input data to the valid range for imshow with RGB data ([0..1] for floats or [0..255] for integers). Got range [-2.4182549..2.7675].\n",
            "Clipping input data to the valid range for imshow with RGB data ([0..1] for floats or [0..255] for integers). Got range [-2.351526..2.7675].\n"
          ]
        },
        {
          "data": {
            "image/png": "[encoded data removed]",
            "text/plain": [
              "<Figure size 2000x900 with 40 Axes>"
            ]
          },
          "metadata": {},
          "output_type": "display_data"
        }
      ],
      "source": [
        "samples = [[] for _ in range(10)]\n",
        "for image, label in dataset[\"test\"]:\n",
        "  if len(samples[label]) < 4:\n",
        "    samples[label].append(image)\n",
        "\n",
        "plt.figure(figsize=(20, 9))\n",
        "for index in range(40):\n",
        "  label = index % 10\n",
        "  image = samples[label][index // 10]\n",
        "\n",
        "  # Convert from class index to class name\n",
        "  label = dataset[\"test\"].classes[label]\n",
        "\n",
        "  # Visualize the image\n",
        "  plt.subplot(4, 10, index + 1)\n",
        "  plt.imshow(image.permute(1, 2, 0)) # Permute the dimensions to (height, width, channels)\n",
        "  plt.title(label)\n",
        "  plt.axis(\"off\")\n",
        "plt.show()"
      ]
    },
    {
      "cell_type": "code",
      "execution_count": 7,
      "metadata": {
        "colab": {
          "base_uri": "https://localhost:8080/"
        },
        "id": "WRWapEALPgu4",
        "outputId": "6997be78-010c-424b-9a94-2a32579e30f9"
      },
      "outputs": [
        {
          "name": "stdout",
          "output_type": "stream",
          "text": [
            "Train samples: 50000, Test samples: 10000\n"
          ]
        }
      ],
      "source": [
        "train_dataloader = DataLoader(\n",
        "    dataset['train'],\n",
        "    batch_size=128,\n",
        "    shuffle=True,\n",
        "    num_workers=2,\n",
        "    pin_memory=True\n",
        ")\n",
        "test_dataloader = DataLoader(\n",
        "    dataset['test'],\n",
        "    batch_size=128,\n",
        "    shuffle=False,\n",
        "    num_workers=2,\n",
        "    pin_memory=True\n",
        ")\n",
        "\n",
        "print(f\"Train samples: {len(dataset['train'])}, Test samples: {len(dataset['test'])}\")"
      ]
    },
    {
      "cell_type": "code",
      "execution_count": 9,
      "metadata": {
        "colab": {
          "base_uri": "https://localhost:8080/"
        },
        "id": "OlgK-LHOpY8i",
        "outputId": "086d7057-f3ec-4ba3-f777-39fd11a7fe6e"
      },
      "outputs": [
        {
          "name": "stdout",
          "output_type": "stream",
          "text": [
            "Collecting einops\n",
            "  Using cached einops-0.8.1-py3-none-any.whl.metadata (13 kB)\n",
            "Using cached einops-0.8.1-py3-none-any.whl (64 kB)\n",
            "Installing collected packages: einops\n",
            "Successfully installed einops-0.8.1\n",
            "Note: you may need to restart the kernel to use updated packages.\n",
            "Initial shape:  torch.Size([1, 3, 32, 32])\n",
            "Patches shape:  torch.Size([1, 64, 256])\n"
          ]
        },
        {
          "name": "stderr",
          "output_type": "stream",
          "text": [
            "\n",
            "[notice] A new release of pip is available: 25.1.1 -> 25.2\n",
            "[notice] To update, run: C:\\Users\\Aditi P\\AppData\\Local\\Microsoft\\WindowsApps\\PythonSoftwareFoundation.Python.3.11_qbz5n2kfra8p0\\python.exe -m pip install --upgrade pip\n"
          ]
        }
      ],
      "source": [
        "%pip install einops\n",
        "from einops.layers.torch import Rearrange\n",
        "from torch import Tensor\n",
        "\n",
        "class PatchEmbedding(nn.Module):\n",
        "    def __init__(self, in_channels: int = 3, patch_size: int = 4, emb_size:int=256):\n",
        "      super().__init__()\n",
        "      self.patch_size=patch_size\n",
        "      self.projection=nn.Sequential(\n",
        "          nn.Conv2d(in_channels, emb_size, kernel_size=patch_size, stride=patch_size),\n",
        "          Rearrange('b e h w -> b (h w) e')\n",
        "      )\n",
        "\n",
        "      self.norm=nn.LayerNorm(emb_size)\n",
        "\n",
        "    def forward(self, x: Tensor) -> Tensor:\n",
        "      x=self.projection(x)\n",
        "      x=self.norm(x)\n",
        "      return x\n",
        "\n",
        "sample_datapoint = torch.unsqueeze(dataset[\"test\"][0][0], 0)\n",
        "print(\"Initial shape: \", sample_datapoint.shape)\n",
        "embedding = PatchEmbedding()(sample_datapoint)\n",
        "print(\"Patches shape: \", embedding.shape)"
      ]
    },
    {
      "cell_type": "code",
      "execution_count": 10,
      "metadata": {
        "id": "hHUDnEQ-tUh6"
      },
      "outputs": [],
      "source": [
        "class Attention(nn.Module):\n",
        "    def __init__(self, dim, n_heads, dropout=0.1):\n",
        "        super().__init__()\n",
        "        self.n_heads = n_heads\n",
        "        self.head_dim = dim // n_heads\n",
        "        self.qkv = nn.Linear(dim, dim * 3, bias=False)\n",
        "        self.attn_dropout = nn.Dropout(dropout)\n",
        "        self.proj = nn.Linear(dim, dim)\n",
        "        self.proj_dropout = nn.Dropout(dropout)\n",
        "\n",
        "    def forward(self, x):\n",
        "        B, N, C = x.shape\n",
        "        qkv = self.qkv(x).reshape(B, N, 3, self.n_heads, self.head_dim)\n",
        "        qkv = qkv.permute(2, 0, 3, 1, 4)  # (3, B, n_heads, N, head_dim)\n",
        "        q, k, v = qkv[0], qkv[1], qkv[2]  # Each: (B, n_heads, N, head_dim)\n",
        "\n",
        "        attn = (q @ k.transpose(-2, -1)) * (self.head_dim ** -0.5)\n",
        "        attn = attn.softmax(dim=-1)\n",
        "        attn = self.attn_dropout(attn)\n",
        "\n",
        "        x = (attn @ v).transpose(1, 2).reshape(B, N, C)\n",
        "        x = self.proj(x)\n",
        "        x = self.proj_dropout(x)\n",
        "\n",
        "        return x"
      ]
    },
    {
      "cell_type": "code",
      "execution_count": 11,
      "metadata": {
        "id": "FEieja8p0bcm"
      },
      "outputs": [],
      "source": [
        "class PreNorm(nn.Module):\n",
        "  def __init__(self, dim, fn):\n",
        "    super().__init__()\n",
        "    self.norm = nn.LayerNorm(dim)\n",
        "    self.fn=fn\n",
        "  def forward(self, x):\n",
        "    x = self.norm(x)\n",
        "    return self.fn(x) # Applied normalization only once"
      ]
    },
    {
      "cell_type": "code",
      "execution_count": 12,
      "metadata": {
        "colab": {
          "base_uri": "https://localhost:8080/"
        },
        "id": "pwhjnLC-02ga",
        "outputId": "bc0f011c-8fab-4d91-bf01-b584a69e9b36"
      },
      "outputs": [
        {
          "data": {
            "text/plain": [
              "torch.Size([1, 5, 128])"
            ]
          },
          "execution_count": 12,
          "metadata": {},
          "output_type": "execute_result"
        }
      ],
      "source": [
        "class FeedForward(nn.Sequential):\n",
        "  def __init__(self, dim, hidden_dim, dropout = 0.):\n",
        "    super().__init__(\n",
        "        nn.Linear(dim, hidden_dim),\n",
        "        nn.GELU(),\n",
        "        nn.Dropout(dropout),\n",
        "        nn.Linear(hidden_dim, dim),\n",
        "        nn.Dropout(dropout)\n",
        "    )\n",
        "ff=FeedForward(128,256)\n",
        "ff(torch.ones((1,5,128))).shape"
      ]
    },
    {
      "cell_type": "code",
      "execution_count": 13,
      "metadata": {
        "id": "yB40DZgNjkRv"
      },
      "outputs": [],
      "source": [
        "class DropPath(nn.Module): # Inherit from nn.Module\n",
        "  def __init__(self, drop_prob=None):\n",
        "    super().__init__() # Call the parent class constructor\n",
        "    self.drop_prob=drop_prob\n",
        "  def forward(self, x):\n",
        "    if self.drop_prob == 0. or not self.training:\n",
        "      return x\n",
        "    keep_prob=1-self.drop_prob\n",
        "    shape=(x.shape[0],) + (1,) * (x.ndim - 1) # Correct shape for broadcasting\n",
        "    random_tensor=keep_prob+torch.rand(shape,dtype=x.dtype,device=x.device)\n",
        "    random_tensor.floor_()\n",
        "    output=x.div(keep_prob)*random_tensor\n",
        "    return output"
      ]
    },
    {
      "cell_type": "code",
      "execution_count": 14,
      "metadata": {
        "id": "Eruhqziap19f"
      },
      "outputs": [],
      "source": [
        "class TransformerBlock(nn.Module):\n",
        "  def __init__(self, dim, heads, mlp_dim, dropout=0.1, drop_path=0.0):\n",
        "    super().__init__()\n",
        "    self.attn=PreNorm(dim, Attention(dim, heads, dropout))\n",
        "    self.f=PreNorm(dim, FeedForward(dim, mlp_dim, dropout))\n",
        "    self.drop_path=DropPath(drop_path)\n",
        "  def forward(self,x):\n",
        "    x=x+self.drop_path(self.attn(x))\n",
        "    x=x+self.drop_path(self.f(x))\n",
        "    return x"
      ]
    },
    {
      "cell_type": "code",
      "execution_count": 15,
      "metadata": {
        "id": "8bXxNOTt2emt"
      },
      "outputs": [],
      "source": [
        "from einops import repeat\n",
        "class VisT(nn.Module):\n",
        "  def __init__(self, *, image_size, patch_size, emb_dim=384, mlp_dim=1536,\n",
        "                n_class=10, depth=8, heads=2, channels = 3, dropout = 0.1, drop_path_rate=0.1):\n",
        "    super().__init__()\n",
        "\n",
        "    #patching\n",
        "    self.patch_embedding=PatchEmbedding(channels, patch_size, emb_dim) # Corrected argument order\n",
        "    num_patches=(image_size[0]//patch_size)*(image_size[1]//patch_size) # Calculate patches for each dimension\n",
        "\n",
        "    #cls token\n",
        "    self.pos_embedding=nn.Parameter(torch.randn(1,num_patches+1,emb_dim))\n",
        "    self.cls_token=nn.Parameter(torch.randn(1,1,emb_dim))\n",
        "    self.pos_dropout=nn.Dropout(dropout)\n",
        "\n",
        "    #stochastic depth\n",
        "    dpr=[x.item() for x in torch.linspace(0,drop_path_rate,depth)]\n",
        "\n",
        "    #transformer block\n",
        "    self.layers = nn.ModuleList([])\n",
        "    for i in range(depth): # Use i for indexing drop_path\n",
        "        self.layers.append(TransformerBlock(emb_dim, heads, mlp_dim, dropout, dpr[i])) # Pass drop_path\n",
        "\n",
        "    self.norm=nn.LayerNorm(emb_dim) # Add LayerNorm before the head\n",
        "    self.head = nn.Linear(emb_dim, n_class)\n",
        "\n",
        "  def forward(self,img):\n",
        "    #patch\n",
        "    x=self.patch_embedding(img)\n",
        "    b,n,_ = x.shape\n",
        "    #cls\n",
        "    cls_tokens=repeat(self.cls_token,'() n d -> b n d',b=b)\n",
        "    x=torch.cat((cls_tokens,x),dim=1)\n",
        "    #pos emb\n",
        "    x+=self.pos_embedding[:,:(n+1)]\n",
        "    # Changed pos_dropout to be applied to x\n",
        "    x=self.pos_dropout(x)\n",
        "    #transblock\n",
        "    for layer in self.layers:\n",
        "      x=layer(x)\n",
        "    #cls final\n",
        "    x=self.norm(x) # Apply LayerNorm\n",
        "    cls_token=x[:,0]\n",
        "    return self.head(cls_token)"
      ]
    },
    {
      "cell_type": "code",
      "execution_count": 16,
      "metadata": {
        "id": "zbileUN2AqmP"
      },
      "outputs": [],
      "source": [
        "class LabelSmoothingCrossEntropy(nn.Module):\n",
        "    def __init__(self, smoothing=0.1):\n",
        "        super().__init__()\n",
        "        self.smoothing = smoothing\n",
        "\n",
        "    def forward(self, pred, target):\n",
        "        n_classes = pred.size(-1)\n",
        "        log_preds = torch.nn.functional.log_softmax(pred, dim=-1)\n",
        "        loss = -log_preds.sum(dim=-1).mean()\n",
        "        nll = torch.nn.functional.nll_loss(log_preds, target, reduction='mean')\n",
        "        return self.smoothing * (loss / n_classes) + (1 - self.smoothing) * nll\n"
      ]
    },
    {
      "cell_type": "code",
      "execution_count": 17,
      "metadata": {
        "id": "ZjiQ_Hv7tocz"
      },
      "outputs": [],
      "source": [
        "def cosine_sched(optimizer, n_steps, n_train):\n",
        "  def lr_lambda(curr):\n",
        "    if curr<n_steps:\n",
        "      return float(curr)/float(max(1, n_steps))\n",
        "    return max(0.0, float(n_train-curr)/float(max(1, n_train-n_steps)))\n",
        "  return torch.optim.lr_scheduler.LambdaLR(optimizer, lr_lambda)"
      ]
    },
    {
      "cell_type": "code",
      "execution_count": 18,
      "metadata": {
        "id": "wu1_bbwT8mJb"
      },
      "outputs": [],
      "source": [
        "from torch.utils.data import random_split\n",
        "\n",
        "train_split=int(len(dataset[\"train\"])*0.8)\n",
        "test_split=len(dataset[\"train\"])-train_split\n",
        "\n",
        "train_dataloader=DataLoader(dataset[\"train\"],batch_size=128,shuffle=True)\n",
        "test_dataloader=DataLoader(dataset[\"test\"],batch_size=128,shuffle=True)\n"
      ]
    },
    {
      "cell_type": "code",
      "execution_count": null,
      "metadata": {
        "id": "L7dlDwzqvUtL"
      },
      "outputs": [],
      "source": [
        "def train_epoch(model, loader, criterion, optimizer, device, use_mixup=True):\n",
        "    model.train()\n",
        "    running_loss = 0.0\n",
        "    correct = 0\n",
        "    total = 0\n",
        "\n",
        "    pbar = tqdm(loader, desc='Training', leave=False)\n",
        "    for images, labels in pbar:\n",
        "        images, labels = images.to(device), labels.to(device)\n",
        "\n",
        "        if use_mixup:\n",
        "            images, labels_a, labels_b, lam = mixup_data(images, labels, alpha=1.0)\n",
        "            outputs = model(images)\n",
        "            loss = mixup_criterion(criterion, outputs, labels_a, labels_b, lam)\n",
        "        else:\n",
        "            outputs = model(images)\n",
        "            loss = criterion(outputs, labels)\n",
        "\n",
        "        optimizer.zero_grad()\n",
        "        loss.backward()\n",
        "        torch.nn.utils.clip_grad_norm_(model.parameters(), max_norm=1.0)  # Gradient clipping\n",
        "        optimizer.step()\n",
        "\n",
        "        running_loss += loss.item()\n",
        "        _, predicted = outputs.max(1)\n",
        "        total += labels.size(0)\n",
        "        if use_mixup:\n",
        "            correct += (lam * predicted.eq(labels_a).sum().item() +\n",
        "                       (1 - lam) * predicted.eq(labels_b).sum().item())\n",
        "        else:\n",
        "            correct += predicted.eq(labels).sum().item()\n",
        "\n",
        "        pbar.set_postfix({'loss': f'{running_loss/(pbar.n+1):.3f}',\n",
        "                         'acc': f'{100.*correct/total:.2f}%'})\n",
        "\n",
        "    return running_loss / len(loader), 100. * correct / total"
      ]
    },
    {
      "cell_type": "code",
      "execution_count": 20,
      "metadata": {
        "id": "JRDUNO0iAT1j"
      },
      "outputs": [],
      "source": [
        "def evaluate(model, loader, criterion, device):\n",
        "    model.eval()\n",
        "    running_loss = 0.0\n",
        "    correct = 0\n",
        "    total = 0\n",
        "\n",
        "    with torch.no_grad():\n",
        "        pbar = tqdm(loader, desc='Evaluating', leave=False)\n",
        "        for images, labels in pbar:\n",
        "            images, labels = images.to(device), labels.to(device)\n",
        "            outputs = model(images)\n",
        "            loss = criterion(outputs, labels)\n",
        "\n",
        "            running_loss += loss.item()\n",
        "            _, predicted = outputs.max(1)\n",
        "            total += labels.size(0)\n",
        "            correct += predicted.eq(labels).sum().item()\n",
        "\n",
        "            pbar.set_postfix({'loss': f'{running_loss/(pbar.n+1):.3f}',\n",
        "                             'acc': f'{100.*correct/total:.2f}%'})\n",
        "\n",
        "    return running_loss / len(loader), 100. * correct / total"
      ]
    },
    {
      "cell_type": "code",
      "execution_count": 21,
      "metadata": {
        "id": "ac4bb5e4"
      },
      "outputs": [],
      "source": [
        "def mixup_data(x, y, alpha=1.0, use_cuda=True):\n",
        "    if alpha > 0:\n",
        "        lam = np.random.beta(alpha, alpha)\n",
        "    else:\n",
        "        lam = 1\n",
        "\n",
        "    batch_size = x.size()[0]\n",
        "    if use_cuda:\n",
        "        index = torch.randperm(batch_size).cuda()\n",
        "    else:\n",
        "        index = torch.randperm(batch_size)\n",
        "\n",
        "    mixed_x = lam * x + (1 - lam) * x[index, :]\n",
        "    y_a, y_b = y, y[index]\n",
        "    return mixed_x, y_a, y_b, lam\n",
        "\n",
        "def mixup_criterion(criterion, pred, y_a, y_b, lam):\n",
        "    return lam * criterion(pred, y_a) + (1 - lam) * criterion(pred, y_b)"
      ]
    },
    {
      "cell_type": "code",
      "execution_count": 22,
      "metadata": {
        "colab": {
          "base_uri": "https://localhost:8080/"
        },
        "id": "idi8cybBA18j",
        "outputId": "2e30a426-eca6-4f7a-d881-7e102c4edb5a"
      },
      "outputs": [
        {
          "name": "stdout",
          "output_type": "stream",
          "text": [
            "Using device: cuda\n"
          ]
        }
      ],
      "source": [
        "device = torch.device('cuda' if torch.cuda.is_available() else 'cpu')\n",
        "print(f\"Using device: {device}\")"
      ]
    },
    {
      "cell_type": "code",
      "execution_count": 23,
      "metadata": {
        "colab": {
          "base_uri": "https://localhost:8080/"
        },
        "id": "FhZhDMFE8yh1",
        "outputId": "4ae54a20-a6ca-4d12-86ff-50aa4ba0ac34"
      },
      "outputs": [
        {
          "name": "stdout",
          "output_type": "stream",
          "text": [
            "Using device: cuda\n",
            "Model parameters: 14.24M\n",
            "\n",
            "============================================================\n",
            "STARTING TRAINING\n",
            "============================================================\n",
            "\n",
            "Epoch 1/150\n",
            "Learning Rate: 0.000000\n"
          ]
        },
        {
          "name": "stderr",
          "output_type": "stream",
          "text": [
            "                                                                                                                                \r"
          ]
        },
        {
          "name": "stdout",
          "output_type": "stream",
          "text": [
            "Train Loss: 2.3889 | Train Acc: 9.48%\n",
            "Test Loss:  2.3794 | Test Acc:  10.00%\n",
            "✓ Saved best model! Best Acc: 10.00%\n",
            "\n",
            "Epoch 2/150\n",
            "Learning Rate: 0.000000\n"
          ]
        },
        {
          "name": "stderr",
          "output_type": "stream",
          "text": [
            "                                                                                                                                \r"
          ]
        },
        {
          "name": "stdout",
          "output_type": "stream",
          "text": [
            "Train Loss: 2.3374 | Train Acc: 10.14%\n",
            "Test Loss:  2.2715 | Test Acc:  13.77%\n",
            "✓ Saved best model! Best Acc: 13.77%\n",
            "\n",
            "Epoch 3/150\n",
            "Learning Rate: 0.000000\n"
          ]
        },
        {
          "name": "stderr",
          "output_type": "stream",
          "text": [
            "                                                                                                                                \r"
          ]
        },
        {
          "name": "stdout",
          "output_type": "stream",
          "text": [
            "Train Loss: 2.2904 | Train Acc: 13.11%\n",
            "Test Loss:  2.2123 | Test Acc:  18.29%\n",
            "✓ Saved best model! Best Acc: 18.29%\n",
            "\n",
            "Epoch 4/150\n",
            "Learning Rate: 0.000000\n"
          ]
        },
        {
          "name": "stderr",
          "output_type": "stream",
          "text": [
            "                                                                                                                                \r"
          ]
        },
        {
          "name": "stdout",
          "output_type": "stream",
          "text": [
            "Train Loss: 2.2618 | Train Acc: 15.31%\n",
            "Test Loss:  2.1670 | Test Acc:  20.00%\n",
            "✓ Saved best model! Best Acc: 20.00%\n",
            "\n",
            "Epoch 5/150\n",
            "Learning Rate: 0.000001\n"
          ]
        },
        {
          "name": "stderr",
          "output_type": "stream",
          "text": [
            "                                                                                                                                \r"
          ]
        },
        {
          "name": "stdout",
          "output_type": "stream",
          "text": [
            "Train Loss: 2.2355 | Train Acc: 16.62%\n",
            "Test Loss:  2.1282 | Test Acc:  22.34%\n",
            "✓ Saved best model! Best Acc: 22.34%\n",
            "\n",
            "Epoch 6/150\n",
            "Learning Rate: 0.000001\n"
          ]
        },
        {
          "name": "stderr",
          "output_type": "stream",
          "text": [
            "                                                                                                                                \r"
          ]
        },
        {
          "name": "stdout",
          "output_type": "stream",
          "text": [
            "Train Loss: 2.2167 | Train Acc: 17.63%\n",
            "Test Loss:  2.1035 | Test Acc:  24.53%\n",
            "✓ Saved best model! Best Acc: 24.53%\n",
            "\n",
            "Epoch 7/150\n",
            "Learning Rate: 0.000001\n"
          ]
        },
        {
          "name": "stderr",
          "output_type": "stream",
          "text": [
            "                                                                                                                                \r"
          ]
        },
        {
          "name": "stdout",
          "output_type": "stream",
          "text": [
            "Train Loss: 2.2038 | Train Acc: 18.44%\n",
            "Test Loss:  2.0873 | Test Acc:  25.33%\n",
            "✓ Saved best model! Best Acc: 25.33%\n",
            "\n",
            "Epoch 8/150\n",
            "Learning Rate: 0.000001\n"
          ]
        },
        {
          "name": "stderr",
          "output_type": "stream",
          "text": [
            "                                                                                                                                \r"
          ]
        },
        {
          "name": "stdout",
          "output_type": "stream",
          "text": [
            "Train Loss: 2.1956 | Train Acc: 18.95%\n",
            "Test Loss:  2.0779 | Test Acc:  25.64%\n",
            "✓ Saved best model! Best Acc: 25.64%\n",
            "\n",
            "Epoch 9/150\n",
            "Learning Rate: 0.000001\n"
          ]
        },
        {
          "name": "stderr",
          "output_type": "stream",
          "text": [
            "                                                                                                                                \r"
          ]
        },
        {
          "name": "stdout",
          "output_type": "stream",
          "text": [
            "Train Loss: 2.1926 | Train Acc: 19.24%\n",
            "Test Loss:  2.0631 | Test Acc:  26.00%\n",
            "✓ Saved best model! Best Acc: 26.00%\n",
            "\n",
            "Epoch 10/150\n",
            "Learning Rate: 0.000001\n"
          ]
        },
        {
          "name": "stderr",
          "output_type": "stream",
          "text": [
            "                                                                                                                                \r"
          ]
        },
        {
          "name": "stdout",
          "output_type": "stream",
          "text": [
            "Train Loss: 2.1791 | Train Acc: 20.04%\n",
            "Test Loss:  2.0544 | Test Acc:  26.94%\n",
            "✓ Saved best model! Best Acc: 26.94%\n",
            "\n",
            "Epoch 11/150\n",
            "Learning Rate: 0.000002\n"
          ]
        },
        {
          "name": "stderr",
          "output_type": "stream",
          "text": [
            "                                                                                                                                \r"
          ]
        },
        {
          "name": "stdout",
          "output_type": "stream",
          "text": [
            "Train Loss: 2.1733 | Train Acc: 20.50%\n",
            "Test Loss:  2.0379 | Test Acc:  28.54%\n",
            "✓ Saved best model! Best Acc: 28.54%\n",
            "\n",
            "Epoch 12/150\n",
            "Learning Rate: 0.000002\n"
          ]
        },
        {
          "name": "stderr",
          "output_type": "stream",
          "text": [
            "                                                                                                                                \r"
          ]
        },
        {
          "name": "stdout",
          "output_type": "stream",
          "text": [
            "Train Loss: 2.1673 | Train Acc: 21.04%\n",
            "Test Loss:  2.0311 | Test Acc:  28.86%\n",
            "✓ Saved best model! Best Acc: 28.86%\n",
            "\n",
            "Epoch 13/150\n",
            "Learning Rate: 0.000002\n"
          ]
        },
        {
          "name": "stderr",
          "output_type": "stream",
          "text": [
            "                                                                                                                                \r"
          ]
        },
        {
          "name": "stdout",
          "output_type": "stream",
          "text": [
            "Train Loss: 2.1601 | Train Acc: 21.82%\n",
            "Test Loss:  2.0192 | Test Acc:  29.08%\n",
            "✓ Saved best model! Best Acc: 29.08%\n",
            "\n",
            "Epoch 14/150\n",
            "Learning Rate: 0.000002\n"
          ]
        },
        {
          "name": "stderr",
          "output_type": "stream",
          "text": [
            "                                                                                                                                \r"
          ]
        },
        {
          "name": "stdout",
          "output_type": "stream",
          "text": [
            "Train Loss: 2.1491 | Train Acc: 22.36%\n",
            "Test Loss:  2.0079 | Test Acc:  29.89%\n",
            "✓ Saved best model! Best Acc: 29.89%\n",
            "\n",
            "Epoch 15/150\n",
            "Learning Rate: 0.000002\n"
          ]
        },
        {
          "name": "stderr",
          "output_type": "stream",
          "text": [
            "                                                                                                                                \r"
          ]
        },
        {
          "name": "stdout",
          "output_type": "stream",
          "text": [
            "Train Loss: 2.1470 | Train Acc: 22.73%\n",
            "Test Loss:  1.9862 | Test Acc:  30.76%\n",
            "✓ Saved best model! Best Acc: 30.76%\n",
            "\n",
            "Epoch 16/150\n",
            "Learning Rate: 0.000002\n"
          ]
        },
        {
          "name": "stderr",
          "output_type": "stream",
          "text": [
            "                                                                                                                                \r"
          ]
        },
        {
          "name": "stdout",
          "output_type": "stream",
          "text": [
            "Train Loss: 2.1353 | Train Acc: 23.36%\n",
            "Test Loss:  1.9747 | Test Acc:  31.54%\n",
            "✓ Saved best model! Best Acc: 31.54%\n",
            "\n",
            "Epoch 17/150\n",
            "Learning Rate: 0.000002\n"
          ]
        },
        {
          "name": "stderr",
          "output_type": "stream",
          "text": [
            "                                                                                                                                \r"
          ]
        },
        {
          "name": "stdout",
          "output_type": "stream",
          "text": [
            "Train Loss: 2.1270 | Train Acc: 23.98%\n",
            "Test Loss:  1.9493 | Test Acc:  32.90%\n",
            "✓ Saved best model! Best Acc: 32.90%\n",
            "\n",
            "Epoch 18/150\n",
            "Learning Rate: 0.000003\n"
          ]
        },
        {
          "name": "stderr",
          "output_type": "stream",
          "text": [
            "                                                                                                                                \r"
          ]
        },
        {
          "name": "stdout",
          "output_type": "stream",
          "text": [
            "Train Loss: 2.1100 | Train Acc: 25.14%\n",
            "Test Loss:  1.9237 | Test Acc:  33.97%\n",
            "✓ Saved best model! Best Acc: 33.97%\n",
            "\n",
            "Epoch 19/150\n",
            "Learning Rate: 0.000003\n"
          ]
        },
        {
          "name": "stderr",
          "output_type": "stream",
          "text": [
            "                                                                                                                                \r"
          ]
        },
        {
          "name": "stdout",
          "output_type": "stream",
          "text": [
            "Train Loss: 2.1028 | Train Acc: 25.18%\n",
            "Test Loss:  1.9040 | Test Acc:  34.70%\n",
            "✓ Saved best model! Best Acc: 34.70%\n",
            "\n",
            "Epoch 20/150\n",
            "Learning Rate: 0.000003\n"
          ]
        },
        {
          "name": "stderr",
          "output_type": "stream",
          "text": [
            "                                                                                                                                \r"
          ]
        },
        {
          "name": "stdout",
          "output_type": "stream",
          "text": [
            "Train Loss: 2.0924 | Train Acc: 25.83%\n",
            "Test Loss:  1.8709 | Test Acc:  36.52%\n",
            "✓ Saved best model! Best Acc: 36.52%\n",
            "\n",
            "Epoch 21/150\n",
            "Learning Rate: 0.000003\n"
          ]
        },
        {
          "name": "stderr",
          "output_type": "stream",
          "text": [
            "                                                                                                                                \r"
          ]
        },
        {
          "name": "stdout",
          "output_type": "stream",
          "text": [
            "Train Loss: 2.0792 | Train Acc: 26.56%\n",
            "Test Loss:  1.8573 | Test Acc:  36.75%\n",
            "✓ Saved best model! Best Acc: 36.75%\n",
            "\n",
            "Epoch 22/150\n",
            "Learning Rate: 0.000003\n"
          ]
        },
        {
          "name": "stderr",
          "output_type": "stream",
          "text": [
            "                                                                                                                                \r"
          ]
        },
        {
          "name": "stdout",
          "output_type": "stream",
          "text": [
            "Train Loss: 2.0676 | Train Acc: 27.33%\n",
            "Test Loss:  1.8345 | Test Acc:  37.72%\n",
            "✓ Saved best model! Best Acc: 37.72%\n",
            "\n",
            "Epoch 23/150\n",
            "Learning Rate: 0.000003\n"
          ]
        },
        {
          "name": "stderr",
          "output_type": "stream",
          "text": [
            "                                                                                                                                \r"
          ]
        },
        {
          "name": "stdout",
          "output_type": "stream",
          "text": [
            "Train Loss: 2.0647 | Train Acc: 27.65%\n",
            "Test Loss:  1.8169 | Test Acc:  38.51%\n",
            "✓ Saved best model! Best Acc: 38.51%\n",
            "\n",
            "Epoch 24/150\n",
            "Learning Rate: 0.000004\n"
          ]
        },
        {
          "name": "stderr",
          "output_type": "stream",
          "text": [
            "                                                                                                                                \r"
          ]
        },
        {
          "name": "stdout",
          "output_type": "stream",
          "text": [
            "Train Loss: 2.0566 | Train Acc: 28.08%\n",
            "Test Loss:  1.8105 | Test Acc:  39.73%\n",
            "✓ Saved best model! Best Acc: 39.73%\n",
            "\n",
            "Epoch 25/150\n",
            "Learning Rate: 0.000004\n"
          ]
        },
        {
          "name": "stderr",
          "output_type": "stream",
          "text": [
            "                                                                                                                                \r"
          ]
        },
        {
          "name": "stdout",
          "output_type": "stream",
          "text": [
            "Train Loss: 2.0425 | Train Acc: 28.99%\n",
            "Test Loss:  1.7891 | Test Acc:  39.98%\n",
            "✓ Saved best model! Best Acc: 39.98%\n",
            "\n",
            "Epoch 26/150\n",
            "Learning Rate: 0.000004\n"
          ]
        },
        {
          "name": "stderr",
          "output_type": "stream",
          "text": [
            "                                                                                                                                \r"
          ]
        },
        {
          "name": "stdout",
          "output_type": "stream",
          "text": [
            "Train Loss: 2.0340 | Train Acc: 29.58%\n",
            "Test Loss:  1.7660 | Test Acc:  41.52%\n",
            "✓ Saved best model! Best Acc: 41.52%\n",
            "\n",
            "Epoch 27/150\n",
            "Learning Rate: 0.000004\n"
          ]
        },
        {
          "name": "stderr",
          "output_type": "stream",
          "text": [
            "                                                                                                                                \r"
          ]
        },
        {
          "name": "stdout",
          "output_type": "stream",
          "text": [
            "Train Loss: 2.0251 | Train Acc: 30.11%\n",
            "Test Loss:  1.7550 | Test Acc:  42.68%\n",
            "✓ Saved best model! Best Acc: 42.68%\n",
            "\n",
            "Epoch 28/150\n",
            "Learning Rate: 0.000004\n"
          ]
        },
        {
          "name": "stderr",
          "output_type": "stream",
          "text": [
            "                                                                                                                                \r"
          ]
        },
        {
          "name": "stdout",
          "output_type": "stream",
          "text": [
            "Train Loss: 2.0212 | Train Acc: 30.28%\n",
            "Test Loss:  1.7344 | Test Acc:  43.69%\n",
            "✓ Saved best model! Best Acc: 43.69%\n",
            "\n",
            "Epoch 29/150\n",
            "Learning Rate: 0.000004\n"
          ]
        },
        {
          "name": "stderr",
          "output_type": "stream",
          "text": [
            "                                                                                                                                \r"
          ]
        },
        {
          "name": "stdout",
          "output_type": "stream",
          "text": [
            "Train Loss: 2.0161 | Train Acc: 30.81%\n",
            "Test Loss:  1.7117 | Test Acc:  44.77%\n",
            "✓ Saved best model! Best Acc: 44.77%\n",
            "\n",
            "Epoch 30/150\n",
            "Learning Rate: 0.000004\n"
          ]
        },
        {
          "name": "stderr",
          "output_type": "stream",
          "text": [
            "                                                                                                                                \r"
          ]
        },
        {
          "name": "stdout",
          "output_type": "stream",
          "text": [
            "Train Loss: 2.0011 | Train Acc: 31.54%\n",
            "Test Loss:  1.7122 | Test Acc:  44.99%\n",
            "✓ Saved best model! Best Acc: 44.99%\n",
            "\n",
            "Epoch 31/150\n",
            "Learning Rate: 0.000005\n"
          ]
        },
        {
          "name": "stderr",
          "output_type": "stream",
          "text": [
            "                                                                                                                                \r"
          ]
        },
        {
          "name": "stdout",
          "output_type": "stream",
          "text": [
            "Train Loss: 1.9877 | Train Acc: 32.35%\n",
            "Test Loss:  1.6780 | Test Acc:  46.30%\n",
            "✓ Saved best model! Best Acc: 46.30%\n",
            "\n",
            "Epoch 32/150\n",
            "Learning Rate: 0.000005\n"
          ]
        },
        {
          "name": "stderr",
          "output_type": "stream",
          "text": [
            "                                                                                                                                \r"
          ]
        },
        {
          "name": "stdout",
          "output_type": "stream",
          "text": [
            "Train Loss: 1.9878 | Train Acc: 32.27%\n",
            "Test Loss:  1.6610 | Test Acc:  47.36%\n",
            "✓ Saved best model! Best Acc: 47.36%\n",
            "\n",
            "Epoch 33/150\n",
            "Learning Rate: 0.000005\n"
          ]
        },
        {
          "name": "stderr",
          "output_type": "stream",
          "text": [
            "                                                                                                                                \r"
          ]
        },
        {
          "name": "stdout",
          "output_type": "stream",
          "text": [
            "Train Loss: 1.9750 | Train Acc: 32.95%\n",
            "Test Loss:  1.6505 | Test Acc:  47.42%\n",
            "✓ Saved best model! Best Acc: 47.42%\n",
            "\n",
            "Epoch 34/150\n",
            "Learning Rate: 0.000005\n"
          ]
        },
        {
          "name": "stderr",
          "output_type": "stream",
          "text": [
            "                                                                                                                                \r"
          ]
        },
        {
          "name": "stdout",
          "output_type": "stream",
          "text": [
            "Train Loss: 1.9726 | Train Acc: 33.26%\n",
            "Test Loss:  1.6433 | Test Acc:  48.23%\n",
            "✓ Saved best model! Best Acc: 48.23%\n",
            "\n",
            "Epoch 35/150\n",
            "Learning Rate: 0.000005\n"
          ]
        },
        {
          "name": "stderr",
          "output_type": "stream",
          "text": [
            "                                                                                                                                \r"
          ]
        },
        {
          "name": "stdout",
          "output_type": "stream",
          "text": [
            "Train Loss: 1.9678 | Train Acc: 33.72%\n",
            "Test Loss:  1.6248 | Test Acc:  49.46%\n",
            "✓ Saved best model! Best Acc: 49.46%\n",
            "\n",
            "Epoch 36/150\n",
            "Learning Rate: 0.000005\n"
          ]
        },
        {
          "name": "stderr",
          "output_type": "stream",
          "text": [
            "                                                                                                                                \r"
          ]
        },
        {
          "name": "stdout",
          "output_type": "stream",
          "text": [
            "Train Loss: 1.9627 | Train Acc: 33.88%\n",
            "Test Loss:  1.6035 | Test Acc:  49.66%\n",
            "✓ Saved best model! Best Acc: 49.66%\n",
            "\n",
            "Epoch 37/150\n",
            "Learning Rate: 0.000006\n"
          ]
        },
        {
          "name": "stderr",
          "output_type": "stream",
          "text": [
            "                                                                                                                                \r"
          ]
        },
        {
          "name": "stdout",
          "output_type": "stream",
          "text": [
            "Train Loss: 1.9473 | Train Acc: 34.81%\n",
            "Test Loss:  1.6011 | Test Acc:  50.32%\n",
            "✓ Saved best model! Best Acc: 50.32%\n",
            "\n",
            "Epoch 38/150\n",
            "Learning Rate: 0.000006\n"
          ]
        },
        {
          "name": "stderr",
          "output_type": "stream",
          "text": [
            "                                                                                                                                \r"
          ]
        },
        {
          "name": "stdout",
          "output_type": "stream",
          "text": [
            "Train Loss: 1.9478 | Train Acc: 34.83%\n",
            "Test Loss:  1.6009 | Test Acc:  49.81%\n",
            "\n",
            "Epoch 39/150\n",
            "Learning Rate: 0.000006\n"
          ]
        },
        {
          "name": "stderr",
          "output_type": "stream",
          "text": [
            "                                                                                                                                \r"
          ]
        },
        {
          "name": "stdout",
          "output_type": "stream",
          "text": [
            "Train Loss: 1.9468 | Train Acc: 34.98%\n",
            "Test Loss:  1.5851 | Test Acc:  50.82%\n",
            "✓ Saved best model! Best Acc: 50.82%\n",
            "\n",
            "Epoch 40/150\n",
            "Learning Rate: 0.000006\n"
          ]
        },
        {
          "name": "stderr",
          "output_type": "stream",
          "text": [
            "                                                                                                                                \r"
          ]
        },
        {
          "name": "stdout",
          "output_type": "stream",
          "text": [
            "Train Loss: 1.9452 | Train Acc: 34.95%\n",
            "Test Loss:  1.5723 | Test Acc:  51.15%\n",
            "✓ Saved best model! Best Acc: 51.15%\n",
            "\n",
            "Epoch 41/150\n",
            "Learning Rate: 0.000006\n"
          ]
        },
        {
          "name": "stderr",
          "output_type": "stream",
          "text": [
            "                                                                                                                                \r"
          ]
        },
        {
          "name": "stdout",
          "output_type": "stream",
          "text": [
            "Train Loss: 1.9273 | Train Acc: 35.82%\n",
            "Test Loss:  1.5595 | Test Acc:  51.44%\n",
            "✓ Saved best model! Best Acc: 51.44%\n",
            "\n",
            "Epoch 42/150\n",
            "Learning Rate: 0.000006\n"
          ]
        },
        {
          "name": "stderr",
          "output_type": "stream",
          "text": [
            "                                                                                                                                \r"
          ]
        },
        {
          "name": "stdout",
          "output_type": "stream",
          "text": [
            "Train Loss: 1.9264 | Train Acc: 36.22%\n",
            "Test Loss:  1.5442 | Test Acc:  52.51%\n",
            "✓ Saved best model! Best Acc: 52.51%\n",
            "\n",
            "Epoch 43/150\n",
            "Learning Rate: 0.000006\n"
          ]
        },
        {
          "name": "stderr",
          "output_type": "stream",
          "text": [
            "                                                                                                                                \r"
          ]
        },
        {
          "name": "stdout",
          "output_type": "stream",
          "text": [
            "Train Loss: 1.9214 | Train Acc: 36.36%\n",
            "Test Loss:  1.5574 | Test Acc:  51.70%\n",
            "\n",
            "Epoch 44/150\n",
            "Learning Rate: 0.000007\n"
          ]
        },
        {
          "name": "stderr",
          "output_type": "stream",
          "text": [
            "                                                                                                                                \r"
          ]
        },
        {
          "name": "stdout",
          "output_type": "stream",
          "text": [
            "Train Loss: 1.9183 | Train Acc: 36.33%\n",
            "Test Loss:  1.5398 | Test Acc:  52.10%\n",
            "\n",
            "Epoch 45/150\n",
            "Learning Rate: 0.000007\n"
          ]
        },
        {
          "name": "stderr",
          "output_type": "stream",
          "text": [
            "                                                                                                                                \r"
          ]
        },
        {
          "name": "stdout",
          "output_type": "stream",
          "text": [
            "Train Loss: 1.9058 | Train Acc: 37.19%\n",
            "Test Loss:  1.5259 | Test Acc:  53.52%\n",
            "✓ Saved best model! Best Acc: 53.52%\n",
            "\n",
            "Epoch 46/150\n",
            "Learning Rate: 0.000007\n"
          ]
        },
        {
          "name": "stderr",
          "output_type": "stream",
          "text": [
            "                                                                                                                                \r"
          ]
        },
        {
          "name": "stdout",
          "output_type": "stream",
          "text": [
            "Train Loss: 1.9245 | Train Acc: 36.19%\n",
            "Test Loss:  1.5235 | Test Acc:  53.69%\n",
            "✓ Saved best model! Best Acc: 53.69%\n",
            "\n",
            "Epoch 47/150\n",
            "Learning Rate: 0.000007\n"
          ]
        },
        {
          "name": "stderr",
          "output_type": "stream",
          "text": [
            "                                                                                                                                \r"
          ]
        },
        {
          "name": "stdout",
          "output_type": "stream",
          "text": [
            "Train Loss: 1.9202 | Train Acc: 36.10%\n",
            "Test Loss:  1.5032 | Test Acc:  54.43%\n",
            "✓ Saved best model! Best Acc: 54.43%\n",
            "\n",
            "Epoch 48/150\n",
            "Learning Rate: 0.000007\n"
          ]
        },
        {
          "name": "stderr",
          "output_type": "stream",
          "text": [
            "                                                                                                                                \r"
          ]
        },
        {
          "name": "stdout",
          "output_type": "stream",
          "text": [
            "Train Loss: 1.8942 | Train Acc: 37.83%\n",
            "Test Loss:  1.4976 | Test Acc:  54.65%\n",
            "✓ Saved best model! Best Acc: 54.65%\n",
            "\n",
            "Epoch 49/150\n",
            "Learning Rate: 0.000007\n"
          ]
        },
        {
          "name": "stderr",
          "output_type": "stream",
          "text": [
            "                                                                                                                                \r"
          ]
        },
        {
          "name": "stdout",
          "output_type": "stream",
          "text": [
            "Train Loss: 1.8888 | Train Acc: 38.14%\n",
            "Test Loss:  1.4888 | Test Acc:  54.70%\n",
            "✓ Saved best model! Best Acc: 54.70%\n",
            "\n",
            "Epoch 50/150\n",
            "Learning Rate: 0.000008\n"
          ]
        },
        {
          "name": "stderr",
          "output_type": "stream",
          "text": [
            "                                                                                                                                \r"
          ]
        },
        {
          "name": "stdout",
          "output_type": "stream",
          "text": [
            "Train Loss: 1.8981 | Train Acc: 37.64%\n",
            "Test Loss:  1.4747 | Test Acc:  55.33%\n",
            "✓ Saved best model! Best Acc: 55.33%\n",
            "\n",
            "Epoch 51/150\n",
            "Learning Rate: 0.000008\n"
          ]
        },
        {
          "name": "stderr",
          "output_type": "stream",
          "text": [
            "                                                                                                                                \r"
          ]
        },
        {
          "name": "stdout",
          "output_type": "stream",
          "text": [
            "Train Loss: 1.8902 | Train Acc: 38.06%\n",
            "Test Loss:  1.4855 | Test Acc:  55.31%\n",
            "\n",
            "Epoch 52/150\n",
            "Learning Rate: 0.000008\n"
          ]
        },
        {
          "name": "stderr",
          "output_type": "stream",
          "text": [
            "                                                                                                                                \r"
          ]
        },
        {
          "name": "stdout",
          "output_type": "stream",
          "text": [
            "Train Loss: 1.8921 | Train Acc: 38.14%\n",
            "Test Loss:  1.4844 | Test Acc:  55.07%\n",
            "\n",
            "Epoch 53/150\n",
            "Learning Rate: 0.000008\n"
          ]
        },
        {
          "name": "stderr",
          "output_type": "stream",
          "text": [
            "                                                                                                                                \r"
          ]
        },
        {
          "name": "stdout",
          "output_type": "stream",
          "text": [
            "Train Loss: 1.8816 | Train Acc: 38.44%\n",
            "Test Loss:  1.4709 | Test Acc:  55.97%\n",
            "✓ Saved best model! Best Acc: 55.97%\n",
            "\n",
            "Epoch 54/150\n",
            "Learning Rate: 0.000008\n"
          ]
        },
        {
          "name": "stderr",
          "output_type": "stream",
          "text": [
            "                                                                                                                                \r"
          ]
        },
        {
          "name": "stdout",
          "output_type": "stream",
          "text": [
            "Train Loss: 1.8640 | Train Acc: 39.58%\n",
            "Test Loss:  1.4656 | Test Acc:  56.10%\n",
            "✓ Saved best model! Best Acc: 56.10%\n",
            "\n",
            "Epoch 55/150\n",
            "Learning Rate: 0.000008\n"
          ]
        },
        {
          "name": "stderr",
          "output_type": "stream",
          "text": [
            "                                                                                                                                \r"
          ]
        },
        {
          "name": "stdout",
          "output_type": "stream",
          "text": [
            "Train Loss: 1.8597 | Train Acc: 39.82%\n",
            "Test Loss:  1.4490 | Test Acc:  57.13%\n",
            "✓ Saved best model! Best Acc: 57.13%\n",
            "\n",
            "Epoch 56/150\n",
            "Learning Rate: 0.000008\n"
          ]
        },
        {
          "name": "stderr",
          "output_type": "stream",
          "text": [
            "                                                                                                                                \r"
          ]
        },
        {
          "name": "stdout",
          "output_type": "stream",
          "text": [
            "Train Loss: 1.8619 | Train Acc: 39.66%\n",
            "Test Loss:  1.4519 | Test Acc:  56.86%\n",
            "\n",
            "Epoch 57/150\n",
            "Learning Rate: 0.000009\n"
          ]
        },
        {
          "name": "stderr",
          "output_type": "stream",
          "text": [
            "                                                                                                                                \r"
          ]
        },
        {
          "name": "stdout",
          "output_type": "stream",
          "text": [
            "Train Loss: 1.8572 | Train Acc: 39.71%\n",
            "Test Loss:  1.4416 | Test Acc:  57.47%\n",
            "✓ Saved best model! Best Acc: 57.47%\n",
            "\n",
            "Epoch 58/150\n",
            "Learning Rate: 0.000009\n"
          ]
        },
        {
          "name": "stderr",
          "output_type": "stream",
          "text": [
            "                                                                                                                                \r"
          ]
        },
        {
          "name": "stdout",
          "output_type": "stream",
          "text": [
            "Train Loss: 1.8539 | Train Acc: 39.97%\n",
            "Test Loss:  1.4336 | Test Acc:  57.81%\n",
            "✓ Saved best model! Best Acc: 57.81%\n",
            "\n",
            "Epoch 59/150\n",
            "Learning Rate: 0.000009\n"
          ]
        },
        {
          "name": "stderr",
          "output_type": "stream",
          "text": [
            "                                                                                                                                \r"
          ]
        },
        {
          "name": "stdout",
          "output_type": "stream",
          "text": [
            "Train Loss: 1.8412 | Train Acc: 40.60%\n",
            "Test Loss:  1.4272 | Test Acc:  57.90%\n",
            "✓ Saved best model! Best Acc: 57.90%\n",
            "\n",
            "Epoch 60/150\n",
            "Learning Rate: 0.000009\n"
          ]
        },
        {
          "name": "stderr",
          "output_type": "stream",
          "text": [
            "                                                                                                                                \r"
          ]
        },
        {
          "name": "stdout",
          "output_type": "stream",
          "text": [
            "Train Loss: 1.8543 | Train Acc: 39.99%\n",
            "Test Loss:  1.4242 | Test Acc:  58.15%\n",
            "✓ Saved best model! Best Acc: 58.15%\n",
            "\n",
            "Epoch 61/150\n",
            "Learning Rate: 0.000009\n"
          ]
        },
        {
          "name": "stderr",
          "output_type": "stream",
          "text": [
            "                                                                                                                                \r"
          ]
        },
        {
          "name": "stdout",
          "output_type": "stream",
          "text": [
            "Train Loss: 1.8445 | Train Acc: 40.46%\n",
            "Test Loss:  1.4123 | Test Acc:  58.56%\n",
            "✓ Saved best model! Best Acc: 58.56%\n",
            "\n",
            "Epoch 62/150\n",
            "Learning Rate: 0.000009\n"
          ]
        },
        {
          "name": "stderr",
          "output_type": "stream",
          "text": [
            "                                                                                                                                \r"
          ]
        },
        {
          "name": "stdout",
          "output_type": "stream",
          "text": [
            "Train Loss: 1.8275 | Train Acc: 41.50%\n",
            "Test Loss:  1.4009 | Test Acc:  59.87%\n",
            "✓ Saved best model! Best Acc: 59.87%\n",
            "\n",
            "Epoch 63/150\n",
            "Learning Rate: 0.000010\n"
          ]
        },
        {
          "name": "stderr",
          "output_type": "stream",
          "text": [
            "                                                                                                                                \r"
          ]
        },
        {
          "name": "stdout",
          "output_type": "stream",
          "text": [
            "Train Loss: 1.8507 | Train Acc: 40.31%\n",
            "Test Loss:  1.4118 | Test Acc:  58.61%\n",
            "\n",
            "Epoch 64/150\n",
            "Learning Rate: 0.000010\n"
          ]
        },
        {
          "name": "stderr",
          "output_type": "stream",
          "text": [
            "                                                                                                                                \r"
          ]
        },
        {
          "name": "stdout",
          "output_type": "stream",
          "text": [
            "Train Loss: 1.8444 | Train Acc: 40.71%\n",
            "Test Loss:  1.3908 | Test Acc:  59.96%\n",
            "✓ Saved best model! Best Acc: 59.96%\n",
            "\n",
            "Epoch 65/150\n",
            "Learning Rate: 0.000010\n"
          ]
        },
        {
          "name": "stderr",
          "output_type": "stream",
          "text": [
            "                                                                                                                                \r"
          ]
        },
        {
          "name": "stdout",
          "output_type": "stream",
          "text": [
            "Train Loss: 1.8323 | Train Acc: 41.17%\n",
            "Test Loss:  1.3952 | Test Acc:  59.18%\n",
            "\n",
            "Epoch 66/150\n",
            "Learning Rate: 0.000010\n"
          ]
        },
        {
          "name": "stderr",
          "output_type": "stream",
          "text": [
            "                                                                                                                                \r"
          ]
        },
        {
          "name": "stdout",
          "output_type": "stream",
          "text": [
            "Train Loss: 1.8370 | Train Acc: 40.82%\n",
            "Test Loss:  1.3854 | Test Acc:  60.36%\n",
            "✓ Saved best model! Best Acc: 60.36%\n",
            "\n",
            "Epoch 67/150\n",
            "Learning Rate: 0.000010\n"
          ]
        },
        {
          "name": "stderr",
          "output_type": "stream",
          "text": [
            "                                                                                                                                \r"
          ]
        },
        {
          "name": "stdout",
          "output_type": "stream",
          "text": [
            "Train Loss: 1.8267 | Train Acc: 41.33%\n",
            "Test Loss:  1.3733 | Test Acc:  60.50%\n",
            "✓ Saved best model! Best Acc: 60.50%\n",
            "\n",
            "Epoch 68/150\n",
            "Learning Rate: 0.000010\n"
          ]
        },
        {
          "name": "stderr",
          "output_type": "stream",
          "text": [
            "                                                                                                                                \r"
          ]
        },
        {
          "name": "stdout",
          "output_type": "stream",
          "text": [
            "Train Loss: 1.8270 | Train Acc: 41.52%\n",
            "Test Loss:  1.3823 | Test Acc:  60.01%\n",
            "\n",
            "Epoch 69/150\n",
            "Learning Rate: 0.000010\n"
          ]
        },
        {
          "name": "stderr",
          "output_type": "stream",
          "text": [
            "                                                                                                                                \r"
          ]
        },
        {
          "name": "stdout",
          "output_type": "stream",
          "text": [
            "Train Loss: 1.8327 | Train Acc: 41.09%\n",
            "Test Loss:  1.3635 | Test Acc:  61.55%\n",
            "✓ Saved best model! Best Acc: 61.55%\n",
            "\n",
            "Epoch 70/150\n",
            "Learning Rate: 0.000011\n"
          ]
        },
        {
          "name": "stderr",
          "output_type": "stream",
          "text": [
            "                                                                                                                                \r"
          ]
        },
        {
          "name": "stdout",
          "output_type": "stream",
          "text": [
            "Train Loss: 1.8043 | Train Acc: 42.75%\n",
            "Test Loss:  1.3711 | Test Acc:  60.40%\n",
            "\n",
            "Epoch 71/150\n",
            "Learning Rate: 0.000011\n"
          ]
        },
        {
          "name": "stderr",
          "output_type": "stream",
          "text": [
            "                                                                                                                                \r"
          ]
        },
        {
          "name": "stdout",
          "output_type": "stream",
          "text": [
            "Train Loss: 1.8083 | Train Acc: 42.68%\n",
            "Test Loss:  1.3516 | Test Acc:  62.25%\n",
            "✓ Saved best model! Best Acc: 62.25%\n",
            "\n",
            "Epoch 72/150\n",
            "Learning Rate: 0.000011\n"
          ]
        },
        {
          "name": "stderr",
          "output_type": "stream",
          "text": [
            "                                                                                                                                \r"
          ]
        },
        {
          "name": "stdout",
          "output_type": "stream",
          "text": [
            "Train Loss: 1.8061 | Train Acc: 42.47%\n",
            "Test Loss:  1.3496 | Test Acc:  61.86%\n",
            "\n",
            "Epoch 73/150\n",
            "Learning Rate: 0.000011\n"
          ]
        },
        {
          "name": "stderr",
          "output_type": "stream",
          "text": [
            "                                                                                                                                \r"
          ]
        },
        {
          "name": "stdout",
          "output_type": "stream",
          "text": [
            "Train Loss: 1.8114 | Train Acc: 42.49%\n",
            "Test Loss:  1.3562 | Test Acc:  61.43%\n",
            "\n",
            "Epoch 74/150\n",
            "Learning Rate: 0.000011\n"
          ]
        },
        {
          "name": "stderr",
          "output_type": "stream",
          "text": [
            "                                                                                                                                \r"
          ]
        },
        {
          "name": "stdout",
          "output_type": "stream",
          "text": [
            "Train Loss: 1.7989 | Train Acc: 43.18%\n",
            "Test Loss:  1.3487 | Test Acc:  61.55%\n",
            "\n",
            "Epoch 75/150\n",
            "Learning Rate: 0.000011\n"
          ]
        },
        {
          "name": "stderr",
          "output_type": "stream",
          "text": [
            "                                                                                                                                \r"
          ]
        },
        {
          "name": "stdout",
          "output_type": "stream",
          "text": [
            "Train Loss: 1.7969 | Train Acc: 43.39%\n",
            "Test Loss:  1.3365 | Test Acc:  62.35%\n",
            "✓ Saved best model! Best Acc: 62.35%\n",
            "\n",
            "Epoch 76/150\n",
            "Learning Rate: 0.000012\n"
          ]
        },
        {
          "name": "stderr",
          "output_type": "stream",
          "text": [
            "                                                                                                                                \r"
          ]
        },
        {
          "name": "stdout",
          "output_type": "stream",
          "text": [
            "Train Loss: 1.7970 | Train Acc: 43.05%\n",
            "Test Loss:  1.3428 | Test Acc:  61.65%\n",
            "\n",
            "Epoch 77/150\n",
            "Learning Rate: 0.000012\n"
          ]
        },
        {
          "name": "stderr",
          "output_type": "stream",
          "text": [
            "                                                                                                                                \r"
          ]
        },
        {
          "name": "stdout",
          "output_type": "stream",
          "text": [
            "Train Loss: 1.8071 | Train Acc: 42.44%\n",
            "Test Loss:  1.3424 | Test Acc:  61.74%\n",
            "\n",
            "Epoch 78/150\n",
            "Learning Rate: 0.000012\n"
          ]
        },
        {
          "name": "stderr",
          "output_type": "stream",
          "text": [
            "                                                                                                                                \r"
          ]
        },
        {
          "name": "stdout",
          "output_type": "stream",
          "text": [
            "Train Loss: 1.8068 | Train Acc: 42.56%\n",
            "Test Loss:  1.3302 | Test Acc:  62.22%\n",
            "\n",
            "Epoch 79/150\n",
            "Learning Rate: 0.000012\n"
          ]
        },
        {
          "name": "stderr",
          "output_type": "stream",
          "text": [
            "                                                                                                                                \r"
          ]
        },
        {
          "name": "stdout",
          "output_type": "stream",
          "text": [
            "Train Loss: 1.7807 | Train Acc: 43.94%\n",
            "Test Loss:  1.3219 | Test Acc:  63.18%\n",
            "✓ Saved best model! Best Acc: 63.18%\n",
            "\n",
            "Epoch 80/150\n",
            "Learning Rate: 0.000012\n"
          ]
        },
        {
          "name": "stderr",
          "output_type": "stream",
          "text": [
            "                                                                                                                                \r"
          ]
        },
        {
          "name": "stdout",
          "output_type": "stream",
          "text": [
            "Train Loss: 1.7927 | Train Acc: 43.40%\n",
            "Test Loss:  1.3328 | Test Acc:  62.45%\n",
            "\n",
            "Epoch 81/150\n",
            "Learning Rate: 0.000012\n"
          ]
        },
        {
          "name": "stderr",
          "output_type": "stream",
          "text": [
            "                                                                                                                                \r"
          ]
        },
        {
          "name": "stdout",
          "output_type": "stream",
          "text": [
            "Train Loss: 1.7972 | Train Acc: 43.35%\n",
            "Test Loss:  1.3204 | Test Acc:  62.51%\n",
            "\n",
            "Epoch 82/150\n",
            "Learning Rate: 0.000012\n"
          ]
        },
        {
          "name": "stderr",
          "output_type": "stream",
          "text": [
            "                                                                                                                                \r"
          ]
        },
        {
          "name": "stdout",
          "output_type": "stream",
          "text": [
            "Train Loss: 1.7802 | Train Acc: 43.92%\n",
            "Test Loss:  1.3162 | Test Acc:  62.82%\n",
            "\n",
            "Epoch 83/150\n",
            "Learning Rate: 0.000013\n"
          ]
        },
        {
          "name": "stderr",
          "output_type": "stream",
          "text": [
            "                                                                                                                                \r"
          ]
        },
        {
          "name": "stdout",
          "output_type": "stream",
          "text": [
            "Train Loss: 1.7743 | Train Acc: 44.47%\n",
            "Test Loss:  1.3098 | Test Acc:  63.48%\n",
            "✓ Saved best model! Best Acc: 63.48%\n",
            "\n",
            "Epoch 84/150\n",
            "Learning Rate: 0.000013\n"
          ]
        },
        {
          "name": "stderr",
          "output_type": "stream",
          "text": [
            "                                                                                                                                \r"
          ]
        },
        {
          "name": "stdout",
          "output_type": "stream",
          "text": [
            "Train Loss: 1.7769 | Train Acc: 44.24%\n",
            "Test Loss:  1.3209 | Test Acc:  63.04%\n",
            "\n",
            "Epoch 85/150\n",
            "Learning Rate: 0.000013\n"
          ]
        },
        {
          "name": "stderr",
          "output_type": "stream",
          "text": [
            "                                                                                                                                \r"
          ]
        },
        {
          "name": "stdout",
          "output_type": "stream",
          "text": [
            "Train Loss: 1.7659 | Train Acc: 44.56%\n",
            "Test Loss:  1.2957 | Test Acc:  63.95%\n",
            "✓ Saved best model! Best Acc: 63.95%\n",
            "\n",
            "Epoch 86/150\n",
            "Learning Rate: 0.000013\n"
          ]
        },
        {
          "name": "stderr",
          "output_type": "stream",
          "text": [
            "                                                                                                                                \r"
          ]
        },
        {
          "name": "stdout",
          "output_type": "stream",
          "text": [
            "Train Loss: 1.7775 | Train Acc: 44.33%\n",
            "Test Loss:  1.3047 | Test Acc:  63.73%\n",
            "\n",
            "Epoch 87/150\n",
            "Learning Rate: 0.000013\n"
          ]
        },
        {
          "name": "stderr",
          "output_type": "stream",
          "text": [
            "                                                                                                                                \r"
          ]
        },
        {
          "name": "stdout",
          "output_type": "stream",
          "text": [
            "Train Loss: 1.7787 | Train Acc: 44.32%\n",
            "Test Loss:  1.2842 | Test Acc:  64.34%\n",
            "✓ Saved best model! Best Acc: 64.34%\n",
            "\n",
            "Epoch 88/150\n",
            "Learning Rate: 0.000013\n"
          ]
        },
        {
          "name": "stderr",
          "output_type": "stream",
          "text": [
            "                                                                                                                                \r"
          ]
        },
        {
          "name": "stdout",
          "output_type": "stream",
          "text": [
            "Train Loss: 1.7790 | Train Acc: 44.22%\n",
            "Test Loss:  1.2807 | Test Acc:  64.59%\n",
            "✓ Saved best model! Best Acc: 64.59%\n",
            "\n",
            "Epoch 89/150\n",
            "Learning Rate: 0.000014\n"
          ]
        },
        {
          "name": "stderr",
          "output_type": "stream",
          "text": [
            "                                                                                                                                \r"
          ]
        },
        {
          "name": "stdout",
          "output_type": "stream",
          "text": [
            "Train Loss: 1.7656 | Train Acc: 44.96%\n",
            "Test Loss:  1.2895 | Test Acc:  64.61%\n",
            "✓ Saved best model! Best Acc: 64.61%\n",
            "\n",
            "Epoch 90/150\n",
            "Learning Rate: 0.000014\n"
          ]
        },
        {
          "name": "stderr",
          "output_type": "stream",
          "text": [
            "                                                                                                                                \r"
          ]
        },
        {
          "name": "stdout",
          "output_type": "stream",
          "text": [
            "Train Loss: 1.7646 | Train Acc: 44.84%\n",
            "Test Loss:  1.2760 | Test Acc:  64.94%\n",
            "✓ Saved best model! Best Acc: 64.94%\n",
            "\n",
            "Epoch 91/150\n",
            "Learning Rate: 0.000014\n"
          ]
        },
        {
          "name": "stderr",
          "output_type": "stream",
          "text": [
            "                                                                                                                                \r"
          ]
        },
        {
          "name": "stdout",
          "output_type": "stream",
          "text": [
            "Train Loss: 1.7743 | Train Acc: 44.52%\n",
            "Test Loss:  1.2899 | Test Acc:  64.51%\n",
            "\n",
            "Epoch 92/150\n",
            "Learning Rate: 0.000014\n"
          ]
        },
        {
          "name": "stderr",
          "output_type": "stream",
          "text": [
            "                                                                                                                                \r"
          ]
        },
        {
          "name": "stdout",
          "output_type": "stream",
          "text": [
            "Train Loss: 1.7602 | Train Acc: 45.07%\n",
            "Test Loss:  1.2637 | Test Acc:  65.77%\n",
            "✓ Saved best model! Best Acc: 65.77%\n",
            "\n",
            "Epoch 93/150\n",
            "Learning Rate: 0.000014\n"
          ]
        },
        {
          "name": "stderr",
          "output_type": "stream",
          "text": [
            "                                                                                                                                \r"
          ]
        },
        {
          "name": "stdout",
          "output_type": "stream",
          "text": [
            "Train Loss: 1.7507 | Train Acc: 45.89%\n",
            "Test Loss:  1.2569 | Test Acc:  65.95%\n",
            "✓ Saved best model! Best Acc: 65.95%\n",
            "\n",
            "Epoch 94/150\n",
            "Learning Rate: 0.000014\n"
          ]
        },
        {
          "name": "stderr",
          "output_type": "stream",
          "text": [
            "                                                                                                                                \r"
          ]
        },
        {
          "name": "stdout",
          "output_type": "stream",
          "text": [
            "Train Loss: 1.7572 | Train Acc: 45.33%\n",
            "Test Loss:  1.2527 | Test Acc:  66.10%\n",
            "✓ Saved best model! Best Acc: 66.10%\n",
            "\n",
            "Epoch 95/150\n",
            "Learning Rate: 0.000014\n"
          ]
        },
        {
          "name": "stderr",
          "output_type": "stream",
          "text": [
            "                                                                                                                                \r"
          ]
        },
        {
          "name": "stdout",
          "output_type": "stream",
          "text": [
            "Train Loss: 1.7656 | Train Acc: 44.86%\n",
            "Test Loss:  1.2749 | Test Acc:  65.12%\n",
            "\n",
            "Epoch 96/150\n",
            "Learning Rate: 0.000015\n"
          ]
        },
        {
          "name": "stderr",
          "output_type": "stream",
          "text": [
            "                                                                                                                                \r"
          ]
        },
        {
          "name": "stdout",
          "output_type": "stream",
          "text": [
            "Train Loss: 1.7617 | Train Acc: 45.14%\n",
            "Test Loss:  1.2509 | Test Acc:  66.70%\n",
            "✓ Saved best model! Best Acc: 66.70%\n",
            "\n",
            "Epoch 97/150\n",
            "Learning Rate: 0.000015\n"
          ]
        },
        {
          "name": "stderr",
          "output_type": "stream",
          "text": [
            "                                                                                                                                \r"
          ]
        },
        {
          "name": "stdout",
          "output_type": "stream",
          "text": [
            "Train Loss: 1.7588 | Train Acc: 45.38%\n",
            "Test Loss:  1.2653 | Test Acc:  66.23%\n",
            "\n",
            "Epoch 98/150\n",
            "Learning Rate: 0.000015\n"
          ]
        },
        {
          "name": "stderr",
          "output_type": "stream",
          "text": [
            "                                                                                                                                \r"
          ]
        },
        {
          "name": "stdout",
          "output_type": "stream",
          "text": [
            "Train Loss: 1.7434 | Train Acc: 46.00%\n",
            "Test Loss:  1.2585 | Test Acc:  66.25%\n",
            "\n",
            "Epoch 99/150\n",
            "Learning Rate: 0.000015\n"
          ]
        },
        {
          "name": "stderr",
          "output_type": "stream",
          "text": [
            "                                                                                                                                \r"
          ]
        },
        {
          "name": "stdout",
          "output_type": "stream",
          "text": [
            "Train Loss: 1.7420 | Train Acc: 46.11%\n",
            "Test Loss:  1.2479 | Test Acc:  66.35%\n",
            "\n",
            "Epoch 100/150\n",
            "Learning Rate: 0.000015\n"
          ]
        },
        {
          "name": "stderr",
          "output_type": "stream",
          "text": [
            "                                                                                                                                \r"
          ]
        },
        {
          "name": "stdout",
          "output_type": "stream",
          "text": [
            "Train Loss: 1.7388 | Train Acc: 46.24%\n",
            "Test Loss:  1.2475 | Test Acc:  65.89%\n",
            "\n",
            "Epoch 101/150\n",
            "Learning Rate: 0.000015\n"
          ]
        },
        {
          "name": "stderr",
          "output_type": "stream",
          "text": [
            "                                                                                                                                \r"
          ]
        },
        {
          "name": "stdout",
          "output_type": "stream",
          "text": [
            "Train Loss: 1.7479 | Train Acc: 45.84%\n",
            "Test Loss:  1.2497 | Test Acc:  65.78%\n",
            "\n",
            "Epoch 102/150\n",
            "Learning Rate: 0.000015\n"
          ]
        },
        {
          "name": "stderr",
          "output_type": "stream",
          "text": [
            "                                                                                                                                \r"
          ]
        },
        {
          "name": "stdout",
          "output_type": "stream",
          "text": [
            "Train Loss: 1.7490 | Train Acc: 45.77%\n",
            "Test Loss:  1.2391 | Test Acc:  66.61%\n",
            "\n",
            "Epoch 103/150\n",
            "Learning Rate: 0.000016\n"
          ]
        },
        {
          "name": "stderr",
          "output_type": "stream",
          "text": [
            "                                                                                                                                \r"
          ]
        },
        {
          "name": "stdout",
          "output_type": "stream",
          "text": [
            "Train Loss: 1.7320 | Train Acc: 46.63%\n",
            "Test Loss:  1.2344 | Test Acc:  67.34%\n",
            "✓ Saved best model! Best Acc: 67.34%\n",
            "\n",
            "Epoch 104/150\n",
            "Learning Rate: 0.000016\n"
          ]
        },
        {
          "name": "stderr",
          "output_type": "stream",
          "text": [
            "                                                                                                                                \r"
          ]
        },
        {
          "name": "stdout",
          "output_type": "stream",
          "text": [
            "Train Loss: 1.7306 | Train Acc: 46.99%\n",
            "Test Loss:  1.2301 | Test Acc:  67.38%\n",
            "✓ Saved best model! Best Acc: 67.38%\n",
            "\n",
            "Epoch 105/150\n",
            "Learning Rate: 0.000016\n"
          ]
        },
        {
          "name": "stderr",
          "output_type": "stream",
          "text": [
            "                                                                                                                                \r"
          ]
        },
        {
          "name": "stdout",
          "output_type": "stream",
          "text": [
            "Train Loss: 1.7303 | Train Acc: 46.86%\n",
            "Test Loss:  1.2241 | Test Acc:  67.64%\n",
            "✓ Saved best model! Best Acc: 67.64%\n",
            "\n",
            "Epoch 106/150\n",
            "Learning Rate: 0.000016\n"
          ]
        },
        {
          "name": "stderr",
          "output_type": "stream",
          "text": [
            "                                                                                                                                \r"
          ]
        },
        {
          "name": "stdout",
          "output_type": "stream",
          "text": [
            "Train Loss: 1.7329 | Train Acc: 46.45%\n",
            "Test Loss:  1.2193 | Test Acc:  67.41%\n",
            "\n",
            "Epoch 107/150\n",
            "Learning Rate: 0.000016\n"
          ]
        },
        {
          "name": "stderr",
          "output_type": "stream",
          "text": [
            "                                                                                                                                \r"
          ]
        },
        {
          "name": "stdout",
          "output_type": "stream",
          "text": [
            "Train Loss: 1.7299 | Train Acc: 47.00%\n",
            "Test Loss:  1.2221 | Test Acc:  67.59%\n",
            "\n",
            "Epoch 108/150\n",
            "Learning Rate: 0.000016\n"
          ]
        },
        {
          "name": "stderr",
          "output_type": "stream",
          "text": [
            "                                                                                                                                \r"
          ]
        },
        {
          "name": "stdout",
          "output_type": "stream",
          "text": [
            "Train Loss: 1.7462 | Train Acc: 45.93%\n",
            "Test Loss:  1.2195 | Test Acc:  68.03%\n",
            "✓ Saved best model! Best Acc: 68.03%\n",
            "\n",
            "Epoch 109/150\n",
            "Learning Rate: 0.000017\n"
          ]
        },
        {
          "name": "stderr",
          "output_type": "stream",
          "text": [
            "                                                                                                                                \r"
          ]
        },
        {
          "name": "stdout",
          "output_type": "stream",
          "text": [
            "Train Loss: 1.7133 | Train Acc: 47.60%\n",
            "Test Loss:  1.2090 | Test Acc:  68.42%\n",
            "✓ Saved best model! Best Acc: 68.42%\n",
            "\n",
            "Epoch 110/150\n",
            "Learning Rate: 0.000017\n"
          ]
        },
        {
          "name": "stderr",
          "output_type": "stream",
          "text": [
            "                                                                                                                                \r"
          ]
        },
        {
          "name": "stdout",
          "output_type": "stream",
          "text": [
            "Train Loss: 1.7134 | Train Acc: 47.85%\n",
            "Test Loss:  1.2086 | Test Acc:  68.50%\n",
            "✓ Saved best model! Best Acc: 68.50%\n",
            "\n",
            "Epoch 111/150\n",
            "Learning Rate: 0.000017\n"
          ]
        },
        {
          "name": "stderr",
          "output_type": "stream",
          "text": [
            "                                                                                                                                \r"
          ]
        },
        {
          "name": "stdout",
          "output_type": "stream",
          "text": [
            "Train Loss: 1.7195 | Train Acc: 47.48%\n",
            "Test Loss:  1.2103 | Test Acc:  67.99%\n",
            "\n",
            "Epoch 112/150\n",
            "Learning Rate: 0.000017\n"
          ]
        },
        {
          "name": "stderr",
          "output_type": "stream",
          "text": [
            "                                                                                                                                \r"
          ]
        },
        {
          "name": "stdout",
          "output_type": "stream",
          "text": [
            "Train Loss: 1.7153 | Train Acc: 47.55%\n",
            "Test Loss:  1.2087 | Test Acc:  68.26%\n",
            "\n",
            "Epoch 113/150\n",
            "Learning Rate: 0.000017\n"
          ]
        },
        {
          "name": "stderr",
          "output_type": "stream",
          "text": [
            "                                                                                                                                \r"
          ]
        },
        {
          "name": "stdout",
          "output_type": "stream",
          "text": [
            "Train Loss: 1.7016 | Train Acc: 48.39%\n",
            "Test Loss:  1.1981 | Test Acc:  68.80%\n",
            "✓ Saved best model! Best Acc: 68.80%\n",
            "\n",
            "Epoch 114/150\n",
            "Learning Rate: 0.000017\n"
          ]
        },
        {
          "name": "stderr",
          "output_type": "stream",
          "text": [
            "                                                                                                                                \r"
          ]
        },
        {
          "name": "stdout",
          "output_type": "stream",
          "text": [
            "Train Loss: 1.7154 | Train Acc: 47.51%\n",
            "Test Loss:  1.2025 | Test Acc:  68.64%\n",
            "\n",
            "Epoch 115/150\n",
            "Learning Rate: 0.000017\n"
          ]
        },
        {
          "name": "stderr",
          "output_type": "stream",
          "text": [
            "                                                                                                                                \r"
          ]
        },
        {
          "name": "stdout",
          "output_type": "stream",
          "text": [
            "Train Loss: 1.7251 | Train Acc: 46.94%\n",
            "Test Loss:  1.2017 | Test Acc:  68.63%\n",
            "\n",
            "Epoch 116/150\n",
            "Learning Rate: 0.000018\n"
          ]
        },
        {
          "name": "stderr",
          "output_type": "stream",
          "text": [
            "                                                                                                                                \r"
          ]
        },
        {
          "name": "stdout",
          "output_type": "stream",
          "text": [
            "Train Loss: 1.7261 | Train Acc: 47.16%\n",
            "Test Loss:  1.2037 | Test Acc:  68.69%\n",
            "\n",
            "Epoch 117/150\n",
            "Learning Rate: 0.000018\n"
          ]
        },
        {
          "name": "stderr",
          "output_type": "stream",
          "text": [
            "                                                                                                                                \r"
          ]
        },
        {
          "name": "stdout",
          "output_type": "stream",
          "text": [
            "Train Loss: 1.7036 | Train Acc: 48.20%\n",
            "Test Loss:  1.1979 | Test Acc:  68.95%\n",
            "✓ Saved best model! Best Acc: 68.95%\n",
            "\n",
            "Epoch 118/150\n",
            "Learning Rate: 0.000018\n"
          ]
        },
        {
          "name": "stderr",
          "output_type": "stream",
          "text": [
            "                                                                                                                                \r"
          ]
        },
        {
          "name": "stdout",
          "output_type": "stream",
          "text": [
            "Train Loss: 1.7110 | Train Acc: 47.79%\n",
            "Test Loss:  1.2091 | Test Acc:  68.06%\n",
            "\n",
            "Epoch 119/150\n",
            "Learning Rate: 0.000018\n"
          ]
        },
        {
          "name": "stderr",
          "output_type": "stream",
          "text": [
            "                                                                                                                                \r"
          ]
        },
        {
          "name": "stdout",
          "output_type": "stream",
          "text": [
            "Train Loss: 1.6897 | Train Acc: 48.80%\n",
            "Test Loss:  1.2002 | Test Acc:  68.71%\n",
            "\n",
            "Epoch 120/150\n",
            "Learning Rate: 0.000018\n"
          ]
        },
        {
          "name": "stderr",
          "output_type": "stream",
          "text": [
            "                                                                                                                                \r"
          ]
        },
        {
          "name": "stdout",
          "output_type": "stream",
          "text": [
            "Train Loss: 1.7152 | Train Acc: 47.57%\n",
            "Test Loss:  1.1887 | Test Acc:  69.12%\n",
            "✓ Saved best model! Best Acc: 69.12%\n",
            "\n",
            "Epoch 121/150\n",
            "Learning Rate: 0.000018\n"
          ]
        },
        {
          "name": "stderr",
          "output_type": "stream",
          "text": [
            "                                                                                                                                \r"
          ]
        },
        {
          "name": "stdout",
          "output_type": "stream",
          "text": [
            "Train Loss: 1.7082 | Train Acc: 48.32%\n",
            "Test Loss:  1.1970 | Test Acc:  68.88%\n",
            "\n",
            "Epoch 122/150\n",
            "Learning Rate: 0.000019\n"
          ]
        },
        {
          "name": "stderr",
          "output_type": "stream",
          "text": [
            "                                                                                                                                \r"
          ]
        },
        {
          "name": "stdout",
          "output_type": "stream",
          "text": [
            "Train Loss: 1.6820 | Train Acc: 49.46%\n",
            "Test Loss:  1.1894 | Test Acc:  69.36%\n",
            "✓ Saved best model! Best Acc: 69.36%\n",
            "\n",
            "Epoch 123/150\n",
            "Learning Rate: 0.000019\n"
          ]
        },
        {
          "name": "stderr",
          "output_type": "stream",
          "text": [
            "                                                                                                                                \r"
          ]
        },
        {
          "name": "stdout",
          "output_type": "stream",
          "text": [
            "Train Loss: 1.6851 | Train Acc: 49.38%\n",
            "Test Loss:  1.1741 | Test Acc:  70.11%\n",
            "✓ Saved best model! Best Acc: 70.11%\n",
            "\n",
            "Epoch 124/150\n",
            "Learning Rate: 0.000019\n"
          ]
        },
        {
          "name": "stderr",
          "output_type": "stream",
          "text": [
            "                                                                                                                                \r"
          ]
        },
        {
          "name": "stdout",
          "output_type": "stream",
          "text": [
            "Train Loss: 1.6992 | Train Acc: 48.57%\n",
            "Test Loss:  1.1636 | Test Acc:  70.42%\n",
            "✓ Saved best model! Best Acc: 70.42%\n",
            "\n",
            "Epoch 125/150\n",
            "Learning Rate: 0.000019\n"
          ]
        },
        {
          "name": "stderr",
          "output_type": "stream",
          "text": [
            "                                                                                                                                \r"
          ]
        },
        {
          "name": "stdout",
          "output_type": "stream",
          "text": [
            "Train Loss: 1.7011 | Train Acc: 48.48%\n",
            "Test Loss:  1.1893 | Test Acc:  69.63%\n",
            "\n",
            "Epoch 126/150\n",
            "Learning Rate: 0.000019\n"
          ]
        },
        {
          "name": "stderr",
          "output_type": "stream",
          "text": [
            "                                                                                                                                \r"
          ]
        },
        {
          "name": "stdout",
          "output_type": "stream",
          "text": [
            "Train Loss: 1.6827 | Train Acc: 49.40%\n",
            "Test Loss:  1.1704 | Test Acc:  70.64%\n",
            "✓ Saved best model! Best Acc: 70.64%\n",
            "\n",
            "Epoch 127/150\n",
            "Learning Rate: 0.000019\n"
          ]
        },
        {
          "name": "stderr",
          "output_type": "stream",
          "text": [
            "                                                                                                                                \r"
          ]
        },
        {
          "name": "stdout",
          "output_type": "stream",
          "text": [
            "Train Loss: 1.6941 | Train Acc: 48.96%\n",
            "Test Loss:  1.1624 | Test Acc:  71.06%\n",
            "✓ Saved best model! Best Acc: 71.06%\n",
            "\n",
            "Epoch 128/150\n",
            "Learning Rate: 0.000019\n"
          ]
        },
        {
          "name": "stderr",
          "output_type": "stream",
          "text": [
            "                                                                                                                                \r"
          ]
        },
        {
          "name": "stdout",
          "output_type": "stream",
          "text": [
            "Train Loss: 1.7025 | Train Acc: 48.55%\n",
            "Test Loss:  1.1803 | Test Acc:  69.78%\n",
            "\n",
            "Epoch 129/150\n",
            "Learning Rate: 0.000020\n"
          ]
        },
        {
          "name": "stderr",
          "output_type": "stream",
          "text": [
            "                                                                                                                                \r"
          ]
        },
        {
          "name": "stdout",
          "output_type": "stream",
          "text": [
            "Train Loss: 1.6847 | Train Acc: 49.28%\n",
            "Test Loss:  1.1787 | Test Acc:  70.05%\n",
            "\n",
            "Epoch 130/150\n",
            "Learning Rate: 0.000020\n"
          ]
        },
        {
          "name": "stderr",
          "output_type": "stream",
          "text": [
            "                                                                                                                                \r"
          ]
        },
        {
          "name": "stdout",
          "output_type": "stream",
          "text": [
            "Train Loss: 1.6670 | Train Acc: 49.83%\n",
            "Test Loss:  1.1623 | Test Acc:  70.98%\n",
            "\n",
            "Epoch 131/150\n",
            "Learning Rate: 0.000020\n"
          ]
        },
        {
          "name": "stderr",
          "output_type": "stream",
          "text": [
            "                                                                                                                                \r"
          ]
        },
        {
          "name": "stdout",
          "output_type": "stream",
          "text": [
            "Train Loss: 1.6692 | Train Acc: 50.28%\n",
            "Test Loss:  1.1639 | Test Acc:  70.60%\n",
            "\n",
            "Epoch 132/150\n",
            "Learning Rate: 0.000020\n"
          ]
        },
        {
          "name": "stderr",
          "output_type": "stream",
          "text": [
            "                                                                                                                                \r"
          ]
        },
        {
          "name": "stdout",
          "output_type": "stream",
          "text": [
            "Train Loss: 1.6938 | Train Acc: 48.90%\n",
            "Test Loss:  1.1771 | Test Acc:  70.25%\n",
            "\n",
            "Epoch 133/150\n",
            "Learning Rate: 0.000020\n"
          ]
        },
        {
          "name": "stderr",
          "output_type": "stream",
          "text": [
            "                                                                                                                                \r"
          ]
        },
        {
          "name": "stdout",
          "output_type": "stream",
          "text": [
            "Train Loss: 1.6650 | Train Acc: 50.51%\n",
            "Test Loss:  1.1553 | Test Acc:  71.19%\n",
            "✓ Saved best model! Best Acc: 71.19%\n",
            "\n",
            "Epoch 134/150\n",
            "Learning Rate: 0.000020\n"
          ]
        },
        {
          "name": "stderr",
          "output_type": "stream",
          "text": [
            "                                                                                                                                \r"
          ]
        },
        {
          "name": "stdout",
          "output_type": "stream",
          "text": [
            "Train Loss: 1.6779 | Train Acc: 49.61%\n",
            "Test Loss:  1.1538 | Test Acc:  71.73%\n",
            "✓ Saved best model! Best Acc: 71.73%\n",
            "\n",
            "Epoch 135/150\n",
            "Learning Rate: 0.000021\n"
          ]
        },
        {
          "name": "stderr",
          "output_type": "stream",
          "text": [
            "                                                                                                                                \r"
          ]
        },
        {
          "name": "stdout",
          "output_type": "stream",
          "text": [
            "Train Loss: 1.6831 | Train Acc: 49.47%\n",
            "Test Loss:  1.1512 | Test Acc:  71.65%\n",
            "\n",
            "Epoch 136/150\n",
            "Learning Rate: 0.000021\n"
          ]
        },
        {
          "name": "stderr",
          "output_type": "stream",
          "text": [
            "                                                                                                                                \r"
          ]
        },
        {
          "name": "stdout",
          "output_type": "stream",
          "text": [
            "Train Loss: 1.6598 | Train Acc: 50.51%\n",
            "Test Loss:  1.1331 | Test Acc:  72.16%\n",
            "✓ Saved best model! Best Acc: 72.16%\n",
            "\n",
            "Epoch 137/150\n",
            "Learning Rate: 0.000021\n"
          ]
        },
        {
          "name": "stderr",
          "output_type": "stream",
          "text": [
            "                                                                                                                                \r"
          ]
        },
        {
          "name": "stdout",
          "output_type": "stream",
          "text": [
            "Train Loss: 1.6867 | Train Acc: 49.39%\n",
            "Test Loss:  1.1465 | Test Acc:  71.22%\n",
            "\n",
            "Epoch 138/150\n",
            "Learning Rate: 0.000021\n"
          ]
        },
        {
          "name": "stderr",
          "output_type": "stream",
          "text": [
            "                                                                                                                                \r"
          ]
        },
        {
          "name": "stdout",
          "output_type": "stream",
          "text": [
            "Train Loss: 1.6920 | Train Acc: 48.87%\n",
            "Test Loss:  1.1427 | Test Acc:  71.86%\n",
            "\n",
            "Epoch 139/150\n",
            "Learning Rate: 0.000021\n"
          ]
        },
        {
          "name": "stderr",
          "output_type": "stream",
          "text": [
            "                                                                                                                                \r"
          ]
        },
        {
          "name": "stdout",
          "output_type": "stream",
          "text": [
            "Train Loss: 1.6654 | Train Acc: 50.25%\n",
            "Test Loss:  1.1627 | Test Acc:  71.06%\n",
            "\n",
            "Epoch 140/150\n",
            "Learning Rate: 0.000021\n"
          ]
        },
        {
          "name": "stderr",
          "output_type": "stream",
          "text": [
            "                                                                                                                                \r"
          ]
        },
        {
          "name": "stdout",
          "output_type": "stream",
          "text": [
            "Train Loss: 1.6429 | Train Acc: 51.26%\n",
            "Test Loss:  1.1314 | Test Acc:  72.01%\n",
            "\n",
            "Epoch 141/150\n",
            "Learning Rate: 0.000021\n"
          ]
        },
        {
          "name": "stderr",
          "output_type": "stream",
          "text": [
            "                                                                                                                                \r"
          ]
        },
        {
          "name": "stdout",
          "output_type": "stream",
          "text": [
            "Train Loss: 1.6635 | Train Acc: 50.44%\n",
            "Test Loss:  1.1248 | Test Acc:  72.80%\n",
            "✓ Saved best model! Best Acc: 72.80%\n",
            "\n",
            "Epoch 142/150\n",
            "Learning Rate: 0.000022\n"
          ]
        },
        {
          "name": "stderr",
          "output_type": "stream",
          "text": [
            "                                                                                                                                \r"
          ]
        },
        {
          "name": "stdout",
          "output_type": "stream",
          "text": [
            "Train Loss: 1.6692 | Train Acc: 50.16%\n",
            "Test Loss:  1.1261 | Test Acc:  72.61%\n",
            "\n",
            "Epoch 143/150\n",
            "Learning Rate: 0.000022\n"
          ]
        },
        {
          "name": "stderr",
          "output_type": "stream",
          "text": [
            "                                                                                                                                \r"
          ]
        },
        {
          "name": "stdout",
          "output_type": "stream",
          "text": [
            "Train Loss: 1.6768 | Train Acc: 49.64%\n",
            "Test Loss:  1.1174 | Test Acc:  72.95%\n",
            "✓ Saved best model! Best Acc: 72.95%\n",
            "\n",
            "Epoch 144/150\n",
            "Learning Rate: 0.000022\n"
          ]
        },
        {
          "name": "stderr",
          "output_type": "stream",
          "text": [
            "                                                                                                                                \r"
          ]
        },
        {
          "name": "stdout",
          "output_type": "stream",
          "text": [
            "Train Loss: 1.6668 | Train Acc: 50.43%\n",
            "Test Loss:  1.1236 | Test Acc:  72.53%\n",
            "\n",
            "Epoch 145/150\n",
            "Learning Rate: 0.000022\n"
          ]
        },
        {
          "name": "stderr",
          "output_type": "stream",
          "text": [
            "                                                                                                                                \r"
          ]
        },
        {
          "ename": "KeyboardInterrupt",
          "evalue": "",
          "output_type": "error",
          "traceback": [
            "\u001b[31m---------------------------------------------------------------------------\u001b[39m",
            "\u001b[31mKeyboardInterrupt\u001b[39m                         Traceback (most recent call last)",
            "\u001b[36mCell\u001b[39m\u001b[36m \u001b[39m\u001b[32mIn[23]\u001b[39m\u001b[32m, line 57\u001b[39m\n\u001b[32m     54\u001b[39m \u001b[38;5;28mprint\u001b[39m(\u001b[33mf\u001b[39m\u001b[33m\"\u001b[39m\u001b[33mLearning Rate: \u001b[39m\u001b[38;5;132;01m{\u001b[39;00moptimizer.param_groups[\u001b[32m0\u001b[39m][\u001b[33m'\u001b[39m\u001b[33mlr\u001b[39m\u001b[33m'\u001b[39m]\u001b[38;5;132;01m:\u001b[39;00m\u001b[33m.6f\u001b[39m\u001b[38;5;132;01m}\u001b[39;00m\u001b[33m\"\u001b[39m)\n\u001b[32m     56\u001b[39m \u001b[38;5;66;03m# Train\u001b[39;00m\n\u001b[32m---> \u001b[39m\u001b[32m57\u001b[39m train_loss, train_acc = \u001b[43mtrain_epoch\u001b[49m\u001b[43m(\u001b[49m\n\u001b[32m     58\u001b[39m \u001b[43m    \u001b[49m\u001b[43mmodel\u001b[49m\u001b[43m,\u001b[49m\u001b[43m \u001b[49m\u001b[43mtrain_dataloader\u001b[49m\u001b[43m,\u001b[49m\u001b[43m \u001b[49m\u001b[43mcriterion\u001b[49m\u001b[43m,\u001b[49m\u001b[43m \u001b[49m\u001b[43moptimizer\u001b[49m\u001b[43m,\u001b[49m\u001b[43m \u001b[49m\u001b[43mdevice\u001b[49m\u001b[43m,\u001b[49m\u001b[43m \u001b[49m\u001b[43muse_mixup\u001b[49m\u001b[43m=\u001b[49m\u001b[38;5;28;43;01mTrue\u001b[39;49;00m\u001b[43m \u001b[49m\u001b[38;5;66;43;03m# Assuming train_epoch and mixup_data are defined elsewhere\u001b[39;49;00m\n\u001b[32m     59\u001b[39m \u001b[43m\u001b[49m\u001b[43m)\u001b[49m\n\u001b[32m     61\u001b[39m \u001b[38;5;66;03m# Update LR scheduler\u001b[39;00m\n\u001b[32m     62\u001b[39m scheduler.step()\n",
            "\u001b[36mCell\u001b[39m\u001b[36m \u001b[39m\u001b[32mIn[19]\u001b[39m\u001b[32m, line 22\u001b[39m, in \u001b[36mtrain_epoch\u001b[39m\u001b[34m(model, loader, criterion, optimizer, device, use_mixup)\u001b[39m\n\u001b[32m     20\u001b[39m \u001b[38;5;66;03m# Backward pass\u001b[39;00m\n\u001b[32m     21\u001b[39m optimizer.zero_grad()\n\u001b[32m---> \u001b[39m\u001b[32m22\u001b[39m \u001b[43mloss\u001b[49m\u001b[43m.\u001b[49m\u001b[43mbackward\u001b[49m\u001b[43m(\u001b[49m\u001b[43m)\u001b[49m\n\u001b[32m     23\u001b[39m torch.nn.utils.clip_grad_norm_(model.parameters(), max_norm=\u001b[32m1.0\u001b[39m)  \u001b[38;5;66;03m# Gradient clipping\u001b[39;00m\n\u001b[32m     24\u001b[39m optimizer.step()\n",
            "\u001b[36mFile \u001b[39m\u001b[32m~\\AppData\\Local\\Packages\\PythonSoftwareFoundation.Python.3.11_qbz5n2kfra8p0\\LocalCache\\local-packages\\Python311\\site-packages\\torch\\_tensor.py:626\u001b[39m, in \u001b[36mTensor.backward\u001b[39m\u001b[34m(self, gradient, retain_graph, create_graph, inputs)\u001b[39m\n\u001b[32m    616\u001b[39m \u001b[38;5;28;01mif\u001b[39;00m has_torch_function_unary(\u001b[38;5;28mself\u001b[39m):\n\u001b[32m    617\u001b[39m     \u001b[38;5;28;01mreturn\u001b[39;00m handle_torch_function(\n\u001b[32m    618\u001b[39m         Tensor.backward,\n\u001b[32m    619\u001b[39m         (\u001b[38;5;28mself\u001b[39m,),\n\u001b[32m   (...)\u001b[39m\u001b[32m    624\u001b[39m         inputs=inputs,\n\u001b[32m    625\u001b[39m     )\n\u001b[32m--> \u001b[39m\u001b[32m626\u001b[39m \u001b[43mtorch\u001b[49m\u001b[43m.\u001b[49m\u001b[43mautograd\u001b[49m\u001b[43m.\u001b[49m\u001b[43mbackward\u001b[49m\u001b[43m(\u001b[49m\n\u001b[32m    627\u001b[39m \u001b[43m    \u001b[49m\u001b[38;5;28;43mself\u001b[39;49m\u001b[43m,\u001b[49m\u001b[43m \u001b[49m\u001b[43mgradient\u001b[49m\u001b[43m,\u001b[49m\u001b[43m \u001b[49m\u001b[43mretain_graph\u001b[49m\u001b[43m,\u001b[49m\u001b[43m \u001b[49m\u001b[43mcreate_graph\u001b[49m\u001b[43m,\u001b[49m\u001b[43m \u001b[49m\u001b[43minputs\u001b[49m\u001b[43m=\u001b[49m\u001b[43minputs\u001b[49m\n\u001b[32m    628\u001b[39m \u001b[43m\u001b[49m\u001b[43m)\u001b[49m\n",
            "\u001b[36mFile \u001b[39m\u001b[32m~\\AppData\\Local\\Packages\\PythonSoftwareFoundation.Python.3.11_qbz5n2kfra8p0\\LocalCache\\local-packages\\Python311\\site-packages\\torch\\autograd\\__init__.py:347\u001b[39m, in \u001b[36mbackward\u001b[39m\u001b[34m(tensors, grad_tensors, retain_graph, create_graph, grad_variables, inputs)\u001b[39m\n\u001b[32m    342\u001b[39m     retain_graph = create_graph\n\u001b[32m    344\u001b[39m \u001b[38;5;66;03m# The reason we repeat the same comment below is that\u001b[39;00m\n\u001b[32m    345\u001b[39m \u001b[38;5;66;03m# some Python versions print out the first line of a multi-line function\u001b[39;00m\n\u001b[32m    346\u001b[39m \u001b[38;5;66;03m# calls in the traceback and some print out the last line\u001b[39;00m\n\u001b[32m--> \u001b[39m\u001b[32m347\u001b[39m \u001b[43m_engine_run_backward\u001b[49m\u001b[43m(\u001b[49m\n\u001b[32m    348\u001b[39m \u001b[43m    \u001b[49m\u001b[43mtensors\u001b[49m\u001b[43m,\u001b[49m\n\u001b[32m    349\u001b[39m \u001b[43m    \u001b[49m\u001b[43mgrad_tensors_\u001b[49m\u001b[43m,\u001b[49m\n\u001b[32m    350\u001b[39m \u001b[43m    \u001b[49m\u001b[43mretain_graph\u001b[49m\u001b[43m,\u001b[49m\n\u001b[32m    351\u001b[39m \u001b[43m    \u001b[49m\u001b[43mcreate_graph\u001b[49m\u001b[43m,\u001b[49m\n\u001b[32m    352\u001b[39m \u001b[43m    \u001b[49m\u001b[43minputs\u001b[49m\u001b[43m,\u001b[49m\n\u001b[32m    353\u001b[39m \u001b[43m    \u001b[49m\u001b[43mallow_unreachable\u001b[49m\u001b[43m=\u001b[49m\u001b[38;5;28;43;01mTrue\u001b[39;49;00m\u001b[43m,\u001b[49m\n\u001b[32m    354\u001b[39m \u001b[43m    \u001b[49m\u001b[43maccumulate_grad\u001b[49m\u001b[43m=\u001b[49m\u001b[38;5;28;43;01mTrue\u001b[39;49;00m\u001b[43m,\u001b[49m\n\u001b[32m    355\u001b[39m \u001b[43m\u001b[49m\u001b[43m)\u001b[49m\n",
            "\u001b[36mFile \u001b[39m\u001b[32m~\\AppData\\Local\\Packages\\PythonSoftwareFoundation.Python.3.11_qbz5n2kfra8p0\\LocalCache\\local-packages\\Python311\\site-packages\\torch\\autograd\\graph.py:823\u001b[39m, in \u001b[36m_engine_run_backward\u001b[39m\u001b[34m(t_outputs, *args, **kwargs)\u001b[39m\n\u001b[32m    821\u001b[39m     unregister_hooks = _register_logging_hooks_on_whole_graph(t_outputs)\n\u001b[32m    822\u001b[39m \u001b[38;5;28;01mtry\u001b[39;00m:\n\u001b[32m--> \u001b[39m\u001b[32m823\u001b[39m     \u001b[38;5;28;01mreturn\u001b[39;00m \u001b[43mVariable\u001b[49m\u001b[43m.\u001b[49m\u001b[43m_execution_engine\u001b[49m\u001b[43m.\u001b[49m\u001b[43mrun_backward\u001b[49m\u001b[43m(\u001b[49m\u001b[43m  \u001b[49m\u001b[38;5;66;43;03m# Calls into the C++ engine to run the backward pass\u001b[39;49;00m\n\u001b[32m    824\u001b[39m \u001b[43m        \u001b[49m\u001b[43mt_outputs\u001b[49m\u001b[43m,\u001b[49m\u001b[43m \u001b[49m\u001b[43m*\u001b[49m\u001b[43margs\u001b[49m\u001b[43m,\u001b[49m\u001b[43m \u001b[49m\u001b[43m*\u001b[49m\u001b[43m*\u001b[49m\u001b[43mkwargs\u001b[49m\n\u001b[32m    825\u001b[39m \u001b[43m    \u001b[49m\u001b[43m)\u001b[49m  \u001b[38;5;66;03m# Calls into the C++ engine to run the backward pass\u001b[39;00m\n\u001b[32m    826\u001b[39m \u001b[38;5;28;01mfinally\u001b[39;00m:\n\u001b[32m    827\u001b[39m     \u001b[38;5;28;01mif\u001b[39;00m attach_logging_hooks:\n",
            "\u001b[31mKeyboardInterrupt\u001b[39m: "
          ]
        }
      ],
      "source": [
        "import torch.optim as optim\n",
        "from transformers import get_cosine_schedule_with_warmup\n",
        "\n",
        "device = torch.device('cuda' if torch.cuda.is_available() else 'cpu')\n",
        "print(f\"Using device: {device}\")\n",
        "\n",
        "model = VisT(\n",
        "    image_size=(32, 32),\n",
        "    patch_size=4,\n",
        "    n_class=10,\n",
        "    emb_dim=384,\n",
        "    depth=8,\n",
        "    heads=8,\n",
        "    mlp_dim=1536,\n",
        "    dropout=0.1,\n",
        "    drop_path_rate=0.1\n",
        ").to(device)\n",
        "\n",
        "total_params = sum(p.numel() for p in model.parameters())\n",
        "print(f\"Model parameters: {total_params/1e6:.2f}M\")\n",
        "\n",
        "optimizer = optim.AdamW(\n",
        "    model.parameters(),\n",
        "    lr=3e-4,\n",
        "    weight_decay=0.05,\n",
        "    betas=(0.9, 0.999)\n",
        ")\n",
        "\n",
        "criterion = LabelSmoothingCrossEntropy(smoothing=0.1) # Assuming LabelSmoothingCrossEntropy is defined elsewhere\n",
        "\n",
        "epochs = 150\n",
        "warmup_epochs = 5\n",
        "total_steps = epochs * len(train_dataloader)\n",
        "warmup_steps = warmup_epochs * len(train_dataloader)\n",
        "scheduler = get_cosine_schedule_with_warmup(optimizer, num_warmup_steps=warmup_steps, num_training_steps=total_steps)\n",
        "\n",
        "best_acc = 0.0\n",
        "train_losses, train_accs = [], []\n",
        "test_losses, test_accs = [], []\n",
        "\n",
        "print(\"\\n\" + \"=\"*60)\n",
        "print(\"STARTING TRAINING\")\n",
        "print(\"=\"*60)\n",
        "\n",
        "for epoch in range(epochs):\n",
        "    print(f\"\\nEpoch {epoch+1}/{epochs}\")\n",
        "    print(f\"Learning Rate: {optimizer.param_groups[0]['lr']:.6f}\")\n",
        "\n",
        "    # Train\n",
        "    train_loss, train_acc = train_epoch(\n",
        "        model, train_dataloader, criterion, optimizer, device, use_mixup=True # Assuming train_epoch and mixup_data are defined elsewhere\n",
        "    )\n",
        "\n",
        "    scheduler.step()\n",
        "\n",
        "    test_loss, test_acc = evaluate(model, test_dataloader, criterion, device) # Assuming evaluate is defined elsewhere\n",
        "\n",
        "    train_losses.append(train_loss)\n",
        "    train_accs.append(train_acc)\n",
        "    test_losses.append(test_loss)\n",
        "    test_accs.append(test_acc)\n",
        "\n",
        "    print(f\"Train Loss: {train_loss:.4f} | Train Acc: {train_acc:.2f}%\")\n",
        "    print(f\"Test Loss:  {test_loss:.4f} | Test Acc:  {test_acc:.2f}%\")\n",
        "\n",
        "    # Save best model\n",
        "    if test_acc > best_acc:\n",
        "        best_acc = test_acc\n",
        "        torch.save({\n",
        "            'epoch': epoch,\n",
        "            'model_state_dict': model.state_dict(),\n",
        "            'optimizer_state_dict': optimizer.state_dict(),\n",
        "            'test_acc': test_acc,\n",
        "        }, 'best_vit_cifar10.pth')\n",
        "        print(f\"✓ Saved best model! Best Acc: {best_acc:.2f}%\")"
      ]
    }
  ],
  "metadata": {
    "accelerator": "GPU",
    "colab": {
      "gpuType": "T4",
      "provenance": []
    },
    "kernelspec": {
      "display_name": "Python 3 (ipykernel)",
      "language": "python",
      "name": "python3"
    },
    "language_info": {
      "codemirror_mode": {
        "name": "ipython",
        "version": 3
      },
      "file_extension": ".py",
      "mimetype": "text/x-python",
      "name": "python",
      "nbconvert_exporter": "python",
      "pygments_lexer": "ipython3",
      "version": "3.11.9"
    }
  },
  "nbformat": 4,
  "nbformat_minor": 0
}
